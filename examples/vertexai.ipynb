{
  "nbformat": 4,
  "nbformat_minor": 0,
  "metadata": {
    "colab": {
      "provenance": []
    },
    "kernelspec": {
      "name": "python3",
      "display_name": "Python 3"
    },
    "language_info": {
      "name": "python"
    }
  },
  "cells": [
    {
      "cell_type": "markdown",
      "source": [
        "# Gofannon + Google Vertex AI: Deploying an Agent with ADK\n",
        "\n",
        "This notebook demonstrates how to build and deploy a simple conversational agent to Google Cloud's Vertex AI platform using the Google Agent Development Kit (ADK).\n",
        "\n",
        "**Key Technologies Used:**\n",
        "*   **Gofannon:** An open-source Python library that provides pre-built tools and agents. In this example, we'll use its `IssLocator` tool to find the current location of the International Space Station.\n",
        "*   **Google Vertex AI:** A unified machine learning platform on Google Cloud that allows you to build, deploy, and manage ML models and AI applications, including conversational agents through its Agent Engine capabilities.\n",
        "*   **Google ADK (Agent Development Kit):** A framework designed to simplify the development, testing, and deployment of AI agents. It provides structures for defining agent behavior, tools, and integrating with language models.\n",
        "\n",
        "**Overall Goal:**\n",
        "The primary objective is to create an agent that can report the current location of the ISS. We will first define this agent locally, test it, and then deploy it as a scalable service on Vertex AI Agent Engine.\n",
        "\n",
        "We will be following the general principles outlined in the ADK documentation for agent deployment: [Google ADK Deploy Agent Engine](https://google.github.io/adk-docs/deploy/agent-engine/#create-your-agent)\n",
        "\n",
        "**Prerequisites:**\n",
        "To run this example successfully, you will need:\n",
        "1.  A Google Cloud Platform (GCP) Project.\n",
        "2.  Billing enabled for your GCP Project."
      ],
      "metadata": {
        "id": "SAYBVrTtu5Zp"
      }
    },
    {
      "cell_type": "markdown",
      "source": [
        "## 1. Install Dependencies\n",
        "\n",
        "The first step is to install the necessary Python libraries. \n",
        "- `google-cloud-aiplatform[adk,agent_engines]>=1.93.0`: This installs the Vertex AI SDK along with extras for the Agent Development Kit (ADK) and Agent Engines, which are required for building and deploying our agent.\n",
        "- `gofannon`: This installs the Gofannon library, from which we'll use a pre-built tool.\n",
        "\nThe `--quiet` flag is used to suppress verbose installation output."
      ],
      "metadata": {
        "id": "new-markdown-1"
      }
    },
    {
      "cell_type": "code",
      "execution_count": 16,
      "metadata": {
        "colab": {
          "base_uri": "https://localhost:8080/"
        },
        "id": "9rzB2YcgSiAX",
        "outputId": "edea1509-798e-4b9d-8c45-aba8d0965ea7"
      },
      "outputs": [
        {
          "output_type": "stream",
          "name": "stdout",
          "text": [
            "\u001b[?25l   \u001b[90m━━━━━━━━━━━━━━━━━━━━━━━━━━━━━━━━━━━━━━━━\u001b[0m \u001b[32m0.0/89.1 kB\u001b[0m \u001b[31m?\u001b[0m eta \u001b[36m-:--:--\u001b[0m\r\u001b[2K   \u001b[91m━━━━━━━━━━━━━━━━━━━━━━━━━━━━━━━━━━━━\u001b[0m\u001b[91m╸\u001b[0m\u001b[90m━━━\u001b[0m \u001b[32m81.9/89.1 kB\u001b[0m \u001b[31m3.2 MB/s\u001b[0m eta \u001b[36m0:00:01\u001b[0m\r\u001b[2K   \u001b[90m━━━━━━━━━━━━━━━━━━━━━━━━━━━━━━━━━━━━━━━━\u001b[0m \u001b[32m89.1/89.1 kB\u001b[0m \u001b[31m2.2 MB/s\u001b[0m eta \u001b[36m0:00:00\u001b[0m\n",
            "\u001b[2K   \u001b[90m━━━━━━━━━━━━━━━━━━━━━━━━━━━━━━━━━━━━━━━━\u001b[0m \u001b[32m410.5/410.5 kB\u001b[0m \u001b[31m10.3 MB/s\u001b[0m eta \u001b[36m0:00:00\u001b[0m\n",
            "\u001b[2K   \u001b[90m━━━━━━━━━━━━━━━━━━━━━━━━━━━━━━━━━━━━━━━━\u001b[0m \u001b[32m856.7/856.7 kB\u001b[0m \u001b[31m23.5 MB/s\u001b[0m eta \u001b[36m0:00:00\u001b[0m\n",
            "\u001b[?25h"
          ]
        }
      ],
      "source": [
        "!pip install \"google-cloud-aiplatform[adk,agent_engines]>=1.93.0\" gofannon --quiet"
      ]
    },
    {
      "cell_type": "markdown",
      "source": [
        "## 2. Configure GCP Project and Location\n",
        "\n",
        "Before interacting with Google Cloud services, we need to specify our project ID and the desired region for our resources.\n",
        "- `PROJECT_ID`: Your unique Google Cloud Project ID.\n",
        "- `LOCATION`: The GCP region where your Vertex AI resources (like the Agent Engine) will be deployed (e.g., `us-central1`).\n",
        "- `STAGING_BUCKET`: A Google Cloud Storage (GCS) bucket URI. This bucket is used by Vertex AI for temporary storage of artifacts during processes like model training or, in our case, agent deployment. The `vertexai.init()` call will attempt to create this bucket if it doesn't exist. For simplicity, we derive its name from the project ID."
      ],
      "metadata": {
        "id": "_8Aa3c2bwFTV"
      }
    },
    {
      "cell_type": "code",
      "source": [
        "import vertexai\n",
        "\n",
        "PROJECT_ID = \"agent-coe-text\"\n",
        "LOCATION = \"us-central1\"\n",
        "STAGING_BUCKET = f\"gs://{PROJECT_ID}-storage-bucket\"\n",
        "\n",
        "vertexai.init(\n",
        "    project=PROJECT_ID,\n",
        "    location=LOCATION,\n",
        "    staging_bucket=STAGING_BUCKET,\n",
        ")"
      ],
      "metadata": {
        "id": "VclYcXcaSi30"
      },
      "execution_count": 17,
      "outputs": []
    },
    {
      "cell_type": "markdown",
      "source": [
        "## 3. Define the Agent\n",
        "\n",
        "Here, we define the core logic and capabilities of our agent using the Google ADK framework.\n",
        "\n",
        "1.  **Import `IssLocator` from Gofannon:** We import the `IssLocator` class, which is a pre-built tool from the Gofannon library designed to fetch the current coordinates of the International Space Station.\n",
        "2.  **Export to ADK Tool:** The `IssLocator().export_to_adk()` method converts the Gofannon tool into a format compatible with the Google ADK, allowing it to be used by our ADK agent.\n",
        "3.  **Create `Agent` Instance:** We instantiate `google.adk.agents.Agent` to define our agent. This involves specifying:\n",
        "    *   `name`: A descriptive name for the agent (e.g., \"weather_time_agent\", though in this case it's more of an ISS agent).\n",
        "    *   `model`: The underlying Large Language Model (LLM) that will power the agent's conversational abilities and decision-making for tool use. Here, we use `gemini-2.0-flash`.\n",
        "    *   `description`: A brief summary of what the agent does.\n",
        "    *   `instruction`: A more detailed prompt or set of instructions for the LLM, guiding its behavior and how it should interact with users and tools.\n",
        "    *   `tools`: A list of tools the agent can use. In this case, it's our ADK-compatible `iss_locator`."
      ],
      "metadata": {
        "id": "new-markdown-2"
      }
    },
    {
      "cell_type": "code",
      "source": [
        "import datetime\n",
        "from zoneinfo import ZoneInfo\n",
        "from google.adk.agents import Agent\n",
        "\n",
        "from gofannon.open_notify_space.iss_locator import IssLocator\n",
        "\n",
        "iss_locator = IssLocator().export_to_adk()\n",
        "\n",
        "root_agent = Agent(\n",
        "    name=\"weather_time_agent\",\n",
        "    model=\"gemini-2.0-flash\",\n",
        "    description=(\n",
        "        \"Agent to answer questions about the current location of the international space station (ISS).\"\n",
        "    ),\n",
        "    instruction=(\n",
        "        \"You are a helpful agent who can answer user questions about the international space station (ISS).\"\n",
        "    ),\n",
        "    tools=[iss_locator],\n",
        ")"
      ],
      "metadata": {
        "id": "ZwkqURisTMEc"
      },
      "execution_count": 18,
      "outputs": []
    },
    {
      "cell_type": "markdown",
      "source": [
        "## 4. Create a Local ADK Application\n",
        "\n",
        "To test our agent locally before deploying it, we wrap it in an `AdkApp` from `vertexai.preview.reasoning_engines`.\n",
        "This creates a local application environment for the agent.\n",
        "- `agent=root_agent`: We pass our defined agent to the application.\n",
        "- `enable_tracing=True`: This enables tracing capabilities, which can be helpful for debugging and understanding the agent's internal operations (e.g., LLM calls, tool invocations)."
      ],
      "metadata": {
        "id": "new-markdown-3"
      }
    },
    {
      "cell_type": "code",
      "source": [
        "from vertexai.preview import reasoning_engines\n",
        "\n",
        "app = reasoning_engines.AdkApp(\n",
        "    agent=root_agent,\n",
        "    enable_tracing=True,\n",
        ")"
      ],
      "metadata": {
        "id": "1_OxHJDwTTfS"
      },
      "execution_count": 19,
      "outputs": []
    },
    {
      "cell_type": "markdown",
      "source": [
        "## 5. Create a Local Session\n",
        "\n",
        "We create a session with our local `AdkApp`. Sessions are used to maintain conversational context and state over multiple turns of interaction with the agent.\n",
        "- `user_id=\"u_123\"`: A unique identifier for the user interacting with the agent. This helps in managing and segregating session data if multiple users are involved (though less critical for local testing with a single user)."
      ],
      "metadata": {
        "id": "new-markdown-4"
      }
    },
    {
      "cell_type": "code",
      "source": [
        "session = app.create_session(user_id=\"u_123\")"
      ],
      "metadata": {
        "id": "jzfSCqFiTZr0"
      },
      "execution_count": 20,
      "outputs": []
    },
    {
      "cell_type": "markdown",
      "source": [
        "### Display Local Session Information\n",
        "\n",
        "This cell simply outputs the details of the `session` object created in the previous step. This allows us to inspect its properties, such as its ID, app name, user ID, and current state."
      ],
      "metadata": {
        "id": "new-markdown-5"
      }
    },
    {
      "cell_type": "code",
      "source": [
        "session"
      ],
      "metadata": {
        "colab": {
          "base_uri": "https://localhost:8080/"
        },
        "id": "XrNvApgYUdlr",
        "outputId": "aeeb8ef7-bb0f-41cf-dcf1-67ab797b4ac6"
      },
      "execution_count": 21,
      "outputs": [
        {
          "output_type": "execute_result",
          "data": {
            "text/plain": [
              "Session(id='bae1251a-980e-45aa-84ce-7409371128a0', app_name='default-app-name', user_id='u_123', state={}, events=[], last_update_time=1747678964.8205023)"
            ]
          },
          "metadata": {},
          "execution_count": 21
        }
      ]
    },
    {
      "cell_type": "markdown",
      "source": [
        "### List Local Sessions\n",
        "\n",
        "The `app.list_sessions()` method can be used to retrieve a list of all active sessions associated with a particular `user_id` for the local `AdkApp`. This demonstrates how one might manage multiple ongoing conversations."
      ],
      "metadata": {
        "id": "new-markdown-6"
      }
    },
    {
      "cell_type": "code",
      "source": [
        "app.list_sessions(user_id=\"u_123\")"
      ],
      "metadata": {
        "colab": {
          "base_uri": "https://localhost:8080/"
        },
        "id": "RZD1f939Ue57",
        "outputId": "61964826-c474-4743-acf8-6c67aadf3c9f"
      },
      "execution_count": 22,
      "outputs": [
        {
          "output_type": "execute_result",
          "data": {
            "text/plain": [
              "ListSessionsResponse(sessions=[Session(id='bae1251a-980e-45aa-84ce-7409371128a0', app_name='default-app-name', user_id='u_123', state={}, events=[], last_update_time=1747678964.8205023)])"
            ]
          },
          "metadata": {},
          "execution_count": 22
        }
      ]
    },
    {
      "cell_type": "markdown",
      "source": [
        "### Get a Specific Local Session\n",
        "\n",
        "If you have a session ID, you can retrieve that specific session using `app.get_session()`. This cell retrieves the session we created earlier (`session.id`) and prints both the original and retrieved session objects to show they are identical."
      ],
      "metadata": {
        "id": "new-markdown-7"
      }
    },
    {
      "cell_type": "code",
      "source": [
        "session2 = app.get_session(user_id=\"u_123\", session_id=session.id)\n",
        "print(session, \"\\n\\n\", session2)"
      ],
      "metadata": {
        "colab": {
          "base_uri": "https://localhost:8080/"
        },
        "id": "iCHzDyj4Uixw",
        "outputId": "b6e009b8-c542-45cc-f3ea-2887065e9bce"
      },
      "execution_count": 23,
      "outputs": [
        {
          "output_type": "stream",
          "name": "stdout",
          "text": [
            "id='bae1251a-980e-45aa-84ce-7409371128a0' app_name='default-app-name' user_id='u_123' state={} events=[] last_update_time=1747678964.8205023 \n",
            "\n",
            " id='bae1251a-980e-45aa-84ce-7409371128a0' app_name='default-app-name' user_id='u_123' state={} events=[] last_update_time=1747678964.8205023\n"
          ]
        }
      ]
    },
    {
      "cell_type": "markdown",
      "source": [
        "## 6. Authenticate for GCP Access (If in Colab)\n",
        "\n",
        "When running this notebook in a Google Colab environment, this cell is crucial for authenticating your user identity. This authentication allows the notebook to interact with Google Cloud Platform services, such as Vertex AI (for deploying the agent) and Google Cloud Storage (for the staging bucket), using your credentials.\n",
        "\n",
        "If you are running this notebook in a different environment (e.g., a Vertex AI Workbench instance or a local machine with `gcloud` CLI already configured), this specific Colab authentication step might not be necessary or might be handled differently (e.g., through Application Default Credentials)."
      ],
      "metadata": {
        "id": "new-markdown-8"
      }
    },
    {
      "cell_type": "code",
      "source": [
        "from google.colab import auth\n",
        "auth.authenticate_user()"
      ],
      "metadata": {
        "id": "D6qjdU2wWRwN"
      },
      "execution_count": 8,
      "outputs": []
    },
    {
      "cell_type": "markdown",
      "source": [
        "## 7. Query the Local Agent\n",
        "\n",
        "Now, we interact with our locally running agent by sending it a query.\n",
        "- `app.stream_query()`: This method sends the `message` to the agent within the specified `session_id` for the given `user_id`.\n",
        "- **Streaming Response:** The `stream_query` method returns an iterator. As the agent processes the query, it can yield multiple `event` objects. These events can represent intermediate steps, such as function calls (tool usage) or function responses, before the final answer is generated.\n",
        "- **Tool Use Example:** The query \"where is the iss now?\" is designed to trigger the `iss_locator` tool. We expect to see an event indicating the LLM decided to call this tool, followed by an event with the tool's output, and finally an event with the LLM's synthesized response to the user.\n",
        "\n",
        "The loop prints each event as it's received, allowing us to observe the agent's reasoning process."
      ],
      "metadata": {
        "id": "new-markdown-9"
      }
    },
    {
      "cell_type": "code",
      "source": [
        "for event in app.stream_query(\n",
        "    user_id=\"u_123\",\n",
        "    session_id=session.id,\n",
        "    message=\"where is the iss now?\",\n",
        "):\n",
        "  print(event)\n"
      ],
      "metadata": {
        "colab": {
          "base_uri": "https://localhost:8080/"
        },
        "id": "dxC5xadNUsX-",
        "outputId": "343793e8-c7b9-4763-c106-4926fb1edb13"
      },
      "execution_count": 24,
      "outputs": [
        {
          "output_type": "stream",
          "name": "stderr",
          "text": [
            "2025-05-19 18:23:05,866 - google_genai.types - WARNING - Warning: there are non-text parts in the response: ['function_call'],returning concatenated text result from text parts,check out the non text parts for full response from model.\n"
          ]
        },
        {
          "output_type": "stream",
          "name": "stdout",
          "text": [
            "{'content': {'parts': [{'function_call': {'id': 'adk-d743d9ad-58c0-4a0e-82b7-86a8473e12c1', 'args': {}, 'name': 'iss_locator'}}], 'role': 'model'}, 'invocation_id': 'e-b35f2878-3801-44d5-9419-f27a15d51298', 'author': 'weather_time_agent', 'actions': {'state_delta': {}, 'artifact_delta': {}, 'requested_auth_configs': {}}, 'long_running_tool_ids': set(), 'id': 'Xw4Bhh14', 'timestamp': 1747678983.500944}\n"
          ]
        },
        {
          "output_type": "stream",
          "name": "stderr",
          "text": [
            "2025-05-19 18:23:07,034 - opentelemetry.sdk.trace.export - WARNING - Already shutdown, dropping span.\n",
            "2025-05-19 18:23:07,036 - opentelemetry.sdk.trace.export - WARNING - Already shutdown, dropping span.\n",
            "2025-05-19 18:23:07,038 - opentelemetry.sdk.trace.export - WARNING - Already shutdown, dropping span.\n"
          ]
        },
        {
          "output_type": "stream",
          "name": "stdout",
          "text": [
            "{'content': {'parts': [{'function_response': {'id': 'adk-d743d9ad-58c0-4a0e-82b7-86a8473e12c1', 'name': 'iss_locator', 'response': {'result': '{\"iss_position\": {\"longitude\": \"-61.3128\", \"latitude\": \"5.3606\"}, \"timestamp\": 1747678986, \"message\": \"success\"}'}}}], 'role': 'user'}, 'invocation_id': 'e-b35f2878-3801-44d5-9419-f27a15d51298', 'author': 'weather_time_agent', 'actions': {'state_delta': {}, 'artifact_delta': {}, 'requested_auth_configs': {}}, 'id': 'LAMpZY0X', 'timestamp': 1747678987.036379}\n"
          ]
        },
        {
          "output_type": "stream",
          "name": "stderr",
          "text": [
            "2025-05-19 18:23:09,539 - opentelemetry.sdk.trace.export - WARNING - Already shutdown, dropping span.\n",
            "2025-05-19 18:23:09,540 - opentelemetry.sdk.trace.export - WARNING - Already shutdown, dropping span.\n",
            "2025-05-19 18:23:09,541 - opentelemetry.sdk.trace.export - WARNING - Already shutdown, dropping span.\n"
          ]
        },
        {
          "output_type": "stream",
          "name": "stdout",
          "text": [
            "{'content': {'parts': [{'text': 'The ISS is currently at Longitude -61.3128, Latitude 5.3606.\\n'}], 'role': 'model'}, 'invocation_id': 'e-b35f2878-3801-44d5-9419-f27a15d51298', 'author': 'weather_time_agent', 'actions': {'state_delta': {}, 'artifact_delta': {}, 'requested_auth_configs': {}}, 'id': 'p7rgQOzY', 'timestamp': 1747678987.040193}\n"
          ]
        }
      ]
    },
    {
      "cell_type": "markdown",
      "source": [
        "### Extract Final Response from Local Agent\n",
        "\n",
        "After the `stream_query` loop completes, the `event` variable will hold the last event received. Typically, this is the final response from the agent containing the answer in a text part.\n",
        "This cell extracts and prints that textual response."
      ],
      "metadata": {
        "id": "new-markdown-10"
      }
    },
    {
      "cell_type": "code",
      "source": [
        "print(event['content']['parts'][0]['text'])"
      ],
      "metadata": {
        "colab": {
          "base_uri": "https://localhost:8080/"
        },
        "id": "rdmU9tZfyTJA",
        "outputId": "05f4b647-4de5-4a2b-8fab-d850853f2521"
      },
      "execution_count": 25,
      "outputs": [
        {
          "output_type": "stream",
          "name": "stdout",
          "text": [
            "The ISS is currently at Longitude -61.3128, Latitude 5.3606.\n",
            "\n"
          ]
        }
      ]
    },
    {
      "cell_type": "markdown",
      "source": [
        "## 8. Deploy the Agent to Vertex AI Agent Engine\n",
        "\n",
        "Once we're satisfied with the local testing, we can deploy the agent to Vertex AI Agent Engine. This makes the agent available as a robust, scalable cloud service.\n",
        "\n",
        "The deployment process involves packaging the agent definition, its dependencies (like Gofannon), and configuring the Vertex AI service. This operation can take a few minutes to complete as it provisions resources and sets up the environment in Google Cloud."
      ],
      "metadata": {
        "id": "DXRfdcYpyz2w"
      }
    },
    {
      "cell_type": "code",
      "source": [
        "from vertexai import agent_engines\n",
        "\n",
        "remote_app = agent_engines.create(\n",
        "    agent_engine=root_agent,\n",
        "    requirements=[\n",
        "        \"google-cloud-aiplatform[adk,agent_engines]\" ,\n",
        "        \"gofannon\"\n",
        "    ]\n",
        ")"
      ],
      "metadata": {
        "colab": {
          "base_uri": "https://localhost:8080/"
        },
        "id": "h_iLpPAvUy_R",
        "outputId": "dc88f41c-1d5c-438b-84dc-efa0eb902128"
      },
      "execution_count": 27,
      "outputs": [
        {
          "output_type": "stream",
          "name": "stderr",
          "text": [
            "2025-05-19 18:26:44,490 - vertexai.agent_engines - INFO - Deploying google.adk.agents.Agent as an application.\n",
            "2025-05-19 18:26:44,497 - vertexai.agent_engines - INFO - Identified the following requirements: {'google-cloud-aiplatform': '1.93.0', 'cloudpickle': '3.1.1', 'pydantic': '2.11.4'}\n",
            "2025-05-19 18:26:44,499 - vertexai.agent_engines - WARNING - The following requirements are missing: {'cloudpickle', 'pydantic'}\n",
            "2025-05-19 18:26:44,500 - vertexai.agent_engines - INFO - The following requirements are appended: {'cloudpickle==3.1.1', 'pydantic==2.11.4'}\n",
            "2025-05-19 18:26:44,501 - vertexai.agent_engines - INFO - The final list of requirements: ['google-cloud-aiplatform[adk,agent_engines]', 'gofannon', 'cloudpickle==3.1.1', 'pydantic==2.11.4']\n",
            "2025-05-19 18:26:46,590 - vertexai.agent_engines - INFO - Using bucket agent-coe-text-storage-bucket\n",
            "2025-05-19 18:26:47,923 - vertexai.agent_engines - INFO - Wrote to gs://agent-coe-text-storage-bucket/agent_engine/agent_engine.pkl\n",
            "2025-05-19 18:26:48,843 - vertexai.agent_engines - INFO - Writing to gs://agent-coe-text-storage-bucket/agent_engine/requirements.txt\n",
            "2025-05-19 18:26:48,844 - vertexai.agent_engines - INFO - Creating in-memory tarfile of extra_packages\n",
            "2025-05-19 18:26:49,071 - vertexai.agent_engines - INFO - Writing to gs://agent-coe-text-storage-bucket/agent_engine/dependencies.tar.gz\n",
            "2025-05-19 18:26:50,873 - vertexai.agent_engines - INFO - Creating AgentEngine\n",
            "2025-05-19 18:26:50,874 - vertexai.agent_engines - INFO - Create AgentEngine backing LRO: projects/916874015322/locations/us-central1/reasoningEngines/8079396158851514368/operations/1141157108146765824\n",
            "2025-05-19 18:26:50,874 - vertexai.agent_engines - INFO - View progress and logs at https://console.cloud.google.com/logs/query?project=agent-coe-text\n",
            "2025-05-19 18:30:25,077 - vertexai.agent_engines - INFO - AgentEngine created. Resource name: projects/916874015322/locations/us-central1/reasoningEngines/8079396158851514368\n",
            "2025-05-19 18:30:25,078 - vertexai.agent_engines - INFO - To use this AgentEngine in another session:\n",
            "2025-05-19 18:30:25,079 - vertexai.agent_engines - INFO - agent_engine = vertexai.agent_engines.get('projects/916874015322/locations/us-central1/reasoningEngines/8079396158851514368')\n"
          ]
        }
      ]
    },
    {
      "cell_type": "markdown",
      "source": [
        "### Get Deployed Agent Resource Name\n",
        "\n",
        "After successful deployment, the `remote_app` object (an instance of `AgentEngine`) will contain information about the deployed resource, including its unique resource name on Google Cloud. This name is useful for managing or referencing the deployed agent engine later (e.g., via `gcloud` CLI or other SDK methods)."
      ],
      "metadata": {
        "id": "new-markdown-11"
      }
    },
    {
      "cell_type": "code",
      "source": [
        "remote_app.resource_name"
      ],
      "metadata": {
        "colab": {
          "base_uri": "https://localhost:8080/",
          "height": 36
        },
        "id": "7Gu8GHqBZyuV",
        "outputId": "b5a9b714-3076-4b2e-cd6b-f008e9261454"
      },
      "execution_count": 28,
      "outputs": [
        {
          "output_type": "execute_result",
          "data": {
            "text/plain": [
              "'projects/916874015322/locations/us-central1/reasoningEngines/8079396158851514368'"
            ],
            "application/vnd.google.colaboratory.intrinsic+json": {
              "type": "string"
            }
          },
          "metadata": {},
          "execution_count": 28
        }
      ]
    },
    {
      "cell_type": "markdown",
      "source": [
        "## 9. Interact with the Deployed Agent\n",
        "\n",
        "Now that the agent is deployed on Vertex AI, we can interact with it similarly to how we interacted with the local version.\n",
        "\n",
        "### Create a Session with the Deployed Agent\n",
        "First, we create a new session, but this time using the `remote_app` object that represents our deployed agent engine. We use a different `user_id` (`u_456`) for this remote session to distinguish it from the local test session."
      ],
      "metadata": {
        "id": "new-markdown-12"
      }
    },
    {
      "cell_type": "code",
      "source": [
        "remote_session = remote_app.create_session(user_id=\"u_456\")\n",
        "remote_session"
      ],
      "metadata": {
        "colab": {
          "base_uri": "https://localhost:8080/"
        },
        "id": "9CiEp4_8Z3LG",
        "outputId": "2486f2fa-a5da-4058-faf7-daa987497518"
      },
      "execution_count": 29,
      "outputs": [
        {
          "output_type": "execute_result",
          "data": {
            "text/plain": [
              "{'events': [],\n",
              " 'last_update_time': 1747679442.536944,\n",
              " 'state': {},\n",
              " 'id': '256050419585777664',\n",
              " 'app_name': '8079396158851514368',\n",
              " 'user_id': 'u_456'}"
            ]
          },
          "metadata": {},
          "execution_count": 29
        }
      ]
    },
    {
      "cell_type": "markdown",
      "source": [
        "### Query the Deployed Agent\n",
        "\n",
        "We send a query to the deployed agent using `remote_app.stream_query()`. This time, we use a slightly more complex query to test its understanding and tool usage: \"if the ISS were to fall out of the sky at this moment, what would it hit (ignore angular momentum)\".\n",
        "\n",
        "The agent should:\n",
        "1.  Understand it needs the current location of the ISS.\n",
        "2.  Invoke the `iss_locator` tool.\n",
        "3.  Use the location data from the tool to formulate an answer, likely indicating it's over an ocean or a specific landmass.\n",
        "\n",
        "Again, we loop through the streamed events and print them."
      ],
      "metadata": {
        "id": "new-markdown-13"
      }
    },
    {
      "cell_type": "code",
      "source": [
        "for event in remote_app.stream_query(\n",
        "    user_id=\"u_456\",\n",
        "    session_id=remote_session[\"id\"],\n",
        "    message=\"if the ISS were to fall out of the sky at this moment, what would it hit (ignore angular momentum)\",\n",
        "):\n",
        "    print(event)"
      ],
      "metadata": {
        "colab": {
          "base_uri": "https://localhost:8080/"
        },
        "id": "TlX6mStxalbS",
        "outputId": "195d1058-42af-44ab-94d0-a62d0c0385a8"
      },
      "execution_count": 30,
      "outputs": [
        {
          "output_type": "stream",
          "name": "stdout",
          "text": [
            "{'content': {'parts': [{'function_call': {'id': 'adk-39408b83-52f6-4941-abf1-60ceacffa21d', 'args': {}, 'name': 'iss_locator'}}], 'role': 'model'}, 'invocation_id': 'e-a6f5a055-fb19-4458-99bd-ee88f953164a', 'author': 'weather_time_agent', 'actions': {'state_delta': {}, 'artifact_delta': {}, 'requested_auth_configs': {}}, 'long_running_tool_ids': [], 'id': 'FnyvOYvu', 'timestamp': 1747679445.733044}\n",
            "{'content': {'parts': [{'function_response': {'id': 'adk-39408b83-52f6-4941-abf1-60ceacffa21d', 'name': 'iss_locator', 'response': {'result': '{\"iss_position\": {\"longitude\": \"-42.7579\", \"latitude\": \"27.8731\"}, \"timestamp\": 1747679447, \"message\": \"success\"}'}}}], 'role': 'user'}, 'invocation_id': 'e-a6f5a055-fb19-4458-99bd-ee88f953164a', 'author': 'weather_time_agent', 'actions': {'state_delta': {}, 'artifact_delta': {}, 'requested_auth_configs': {}}, 'id': 'P47J5XbJ', 'timestamp': 1747679447.59757}\n",
            "{'content': {'parts': [{'text': 'The ISS is currently over the ocean, at latitude 27.8731 and longitude -42.7579.'}], 'role': 'model'}, 'invocation_id': 'e-a6f5a055-fb19-4458-99bd-ee88f953164a', 'author': 'weather_time_agent', 'actions': {'state_delta': {}, 'artifact_delta': {}, 'requested_auth_configs': {}}, 'id': 'wzVoLuGD', 'timestamp': 1747679447.662878}\n"
          ]
        }
      ]
    },
    {
      "cell_type": "markdown",
      "source": [
        "### Extract Final Response from Deployed Agent\n",
        "\n",
        "Similar to the local test, this cell extracts and prints the final textual part of the last event received from the deployed agent's response."
      ],
      "metadata": {
        "id": "new-markdown-14"
      }
    },
    {
      "cell_type": "code",
      "source": [
        "print(event['content']['parts'][0]['text'])"
      ],
      "metadata": {
        "colab": {
          "base_uri": "https://localhost:8080/"
        },
        "id": "VsZHdnxbyn1-",
        "outputId": "daface4a-f419-41ee-a562-27611e1d74a0"
      },
      "execution_count": 31,
      "outputs": [
        {
          "output_type": "stream",
          "name": "stdout",
          "text": [
            "The ISS is currently over the ocean, at latitude 27.8731 and longitude -42.7579.\n"
          ]
        }
      ]
    },
    {
      "cell_type": "markdown",
      "source": [
        "## 10. Clean Up: Delete the Deployed Agent\n",
        "\n",
        "It's crucial to clean up cloud resources after you're done with them to avoid incurring unnecessary charges.\n",
        "This cell calls `remote_app.delete(force=True)` to remove the Agent Engine that was deployed to Vertex AI.\n",
        "- `force=True`: This option ensures the deletion proceeds even if there might be active sessions or other potential blockers. Use with caution in production environments, but it's generally safe for examples like this.\n",
        "\n",
        "After this operation, the agent will no longer be accessible as a deployed service."
      ],
      "metadata": {
        "id": "new-markdown-15"
      }
    },
    {
      "cell_type": "code",
      "source": [
        "remote_app.delete(force=True)"
      ],
      "metadata": {
        "colab": {
          "base_uri": "https://localhost:8080/"
        },
        "id": "y_hslMZqcAko",
        "outputId": "8bc11215-8a5e-4c38-c12a-276ac12da624"
      },
      "execution_count": 32,
      "outputs": [
        {
          "output_type": "stream",
          "name": "stderr",
          "text": [
            "2025-05-19 18:44:56,680 - vertexai.agent_engines - INFO - Delete Agent Engine backing LRO: projects/916874015322/locations/us-central1/operations/756943764936720384\n",
            "2025-05-19 18:44:56,681 - vertexai.agent_engines - INFO - Agent Engine deleted. Resource name: projects/916874015322/locations/us-central1/reasoningEngines/8079396158851514368\n"
          ]
        }
      ]
    }
  ]
}