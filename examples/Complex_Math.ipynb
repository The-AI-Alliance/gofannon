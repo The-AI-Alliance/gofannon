{
  "cells": [
    {
      "cell_type": "code",
      "execution_count": 1,
      "metadata": {
        "colab": {
          "base_uri": "https://localhost:8080/"
        },
        "id": "ujvVmMa0btJb",
        "outputId": "05dc52d8-580d-44d5-cafe-88ad63a72886"
      },
      "outputs": [
        {
          "output_type": "stream",
          "name": "stdout",
          "text": [
            "  Installing build dependencies ... \u001b[?25l\u001b[?25hdone\n",
            "  Getting requirements to build wheel ... \u001b[?25l\u001b[?25hdone\n",
            "  Preparing metadata (pyproject.toml) ... \u001b[?25l\u001b[?25hdone\n",
            "\u001b[2K   \u001b[90m━━━━━━━━━━━━━━━━━━━━━━━━━━━━━━━━━━━━━━━━\u001b[0m \u001b[32m410.5/410.5 kB\u001b[0m \u001b[31m8.2 MB/s\u001b[0m eta \u001b[36m0:00:00\u001b[0m\n",
            "\u001b[2K   \u001b[90m━━━━━━━━━━━━━━━━━━━━━━━━━━━━━━━━━━━━━━━━\u001b[0m \u001b[32m856.7/856.7 kB\u001b[0m \u001b[31m24.7 MB/s\u001b[0m eta \u001b[36m0:00:00\u001b[0m\n",
            "\u001b[?25h  Building wheel for gofannon (pyproject.toml) ... \u001b[?25l\u001b[?25hdone\n"
          ]
        }
      ],
      "source": [
        "!pip install git+https://github.com/The-AI-Alliance/gofannon.git@main --quiet"
      ]
    },
    {
      "cell_type": "code",
      "source": [
        "from openai import OpenAI\n",
        "from gofannon.orchestration import FunctionOrchestrator\n",
        "from google.colab import userdata\n",
        "\n",
        "from gofannon.basic_math.exponents import Exponents\n",
        "from gofannon.basic_math.multiplication import Multiplication\n",
        "from gofannon.basic_math.division import Division\n",
        "from gofannon.basic_math.addition import Addition\n",
        "from gofannon.basic_math.subtraction import Subtraction\n",
        "from gofannon.reasoning.sequential_cot import SequentialCoT\n",
        "\n",
        "import logging\n",
        "logging.getLogger('gofannon').setLevel(logging.DEBUG)\n",
        "\n",
        "CUSTOM_DEPTH_CHART = [\n",
        "    {\n",
        "        \"model_name\": \"meta-llama/Meta-Llama-3.1-8B-Instruct\",\n",
        "        \"base_url\": \"https://api.deepinfra.com/v1/openai\",\n",
        "        \"api_key\": userdata.get('deepinfra'),\n",
        "        \"temperature\": 0.3\n",
        "    },\n",
        "    {\n",
        "        \"model_name\": \"meta-llama/Meta-Llama-3.1-8B-Instruct\",\n",
        "        \"base_url\": \"https://api.deepinfra.com/v1/openai\",\n",
        "        \"api_key\": userdata.get('deepinfra'),\n",
        "        \"temperature\": 0.5\n",
        "    }\n",
        "]\n",
        "\n",
        "# 2. Configure tool parameters including depth charts\n",
        "TOOL_CONFIGS = {\n",
        "    \"sequential_chain_of_thought\": {\n",
        "        \"depth_chart\": CUSTOM_DEPTH_CHART,\n",
        "    }\n",
        "}\n",
        "\n",
        "# Debug statement to confirm registration\n",
        "from gofannon.config import FunctionRegistry\n",
        "print(\"Registered tools:\", FunctionRegistry.get_tools())\n",
        "\n",
        "# Client configured with pre-loaded API keys\n",
        "llm_client =  OpenAI(\n",
        "    api_key=userdata.get('deepinfra'),\n",
        "    base_url=\"https://api.deepinfra.com/v1/openai\",\n",
        ")\n",
        "\n",
        "\n",
        "# 3. Create orchestrator with custom configurations\n",
        "orchestrator = FunctionOrchestrator(\n",
        "    llm_client=llm_client,\n",
        "    tool_configs=TOOL_CONFIGS\n",
        ")\n",
        "\n",
        "# Complex math workflow triggered by natural language\n",
        "result = orchestrator.execute_workflow(\n",
        "    user_query = \"Calculate ((2^3 * 5) + 10) / (4 - 1) using step-by-step function calls.\",\n",
        "    model_name = \"meta-llama/Meta-Llama-3.1-8B-Instruct\"\n",
        ")\n"
      ],
      "metadata": {
        "colab": {
          "base_uri": "https://localhost:8080/"
        },
        "id": "Ixs27pNAyvZ9",
        "outputId": "c049aea0-bb80-453f-834f-e469ddb3a898"
      },
      "execution_count": 2,
      "outputs": [
        {
          "output_type": "stream",
          "name": "stderr",
          "text": [
            "2025-03-25 06:24:13,788 - gofannon.basic_math.exponents.Exponents - DEBUG - Initialized Exponents tool\n",
            "2025-03-25 06:24:13,789 - gofannon.basic_math.multiplication.Multiplication - DEBUG - Initialized Multiplication tool\n",
            "2025-03-25 06:24:13,789 - gofannon.basic_math.division.Division - DEBUG - Initialized Division tool\n",
            "2025-03-25 06:24:13,791 - gofannon.basic_math.addition.Addition - DEBUG - Initialized Addition tool\n",
            "2025-03-25 06:24:13,792 - gofannon.basic_math.subtraction.Subtraction - DEBUG - Initialized Subtraction tool\n",
            "2025-03-25 06:24:13,793 - gofannon.reasoning.sequential_cot.SequentialCoT - DEBUG - Initialized SequentialCoT tool\n"
          ]
        },
        {
          "output_type": "stream",
          "name": "stdout",
          "text": [
            "Registered tools: [{'type': 'function', 'function': {'name': 'exponents', 'description': 'Calculate the result of a number raised to a power', 'parameters': {'type': 'object', 'properties': {'base': {'type': 'number', 'description': 'The base number'}, 'power': {'type': 'number', 'description': 'The power to which the base is raised'}}, 'required': ['base', 'power']}}}, {'type': 'function', 'function': {'name': 'multiplication', 'description': 'Calculate the product of two numbers', 'parameters': {'type': 'object', 'properties': {'num1': {'type': 'number', 'description': 'The first number'}, 'num2': {'type': 'number', 'description': 'The second number'}}, 'required': ['num1', 'num2']}}}, {'type': 'function', 'function': {'name': 'division', 'description': 'Calculate the quotient of two numbers', 'parameters': {'type': 'object', 'properties': {'num1': {'type': 'number', 'description': 'The dividend'}, 'num2': {'type': 'number', 'description': 'The divisor'}}, 'required': ['num1', 'num2']}}}, {'type': 'function', 'function': {'name': 'addition', 'description': 'Calculate the sum of two numbers', 'parameters': {'type': 'object', 'properties': {'num1': {'type': 'number', 'description': 'The first number'}, 'num2': {'type': 'number', 'description': 'The second number'}}, 'required': ['num1', 'num2']}}}, {'type': 'function', 'function': {'name': 'subtraction', 'description': 'Calculate the difference between two numbers', 'parameters': {'type': 'object', 'properties': {'num1': {'type': 'number', 'description': 'The minuend'}, 'num2': {'type': 'number', 'description': 'The subtrahend'}}, 'required': ['num1', 'num2']}}}, {'type': 'function', 'function': {'name': 'sequential_cot', 'description': 'Generate a series of steps required to solve a problem using Chain-of-Thought reasoning.', 'parameters': {'type': 'object', 'properties': {'prompt': {'type': 'string', 'description': 'The prompt to generate steps for.'}, 'steps': {'type': 'number', 'description': 'How many steps to take. (Default 3)'}}, 'required': ['prompt', 'steps']}}}]\n"
          ]
        },
        {
          "output_type": "stream",
          "name": "stderr",
          "text": [
            "2025-03-25 06:24:14,511 - gofannon.basic_math.exponents.Exponents - DEBUG - Initialized Exponents tool\n",
            "2025-03-25 06:24:14,512 - gofannon.basic_math.multiplication.Multiplication - DEBUG - Initialized Multiplication tool\n",
            "2025-03-25 06:24:14,513 - gofannon.basic_math.division.Division - DEBUG - Initialized Division tool\n",
            "2025-03-25 06:24:14,514 - gofannon.basic_math.addition.Addition - DEBUG - Initialized Addition tool\n",
            "2025-03-25 06:24:14,515 - gofannon.basic_math.subtraction.Subtraction - DEBUG - Initialized Subtraction tool\n",
            "2025-03-25 06:24:14,516 - gofannon.reasoning.sequential_cot.SequentialCoT - DEBUG - Initialized SequentialCoT tool\n",
            "2025-03-25 06:24:14,517 - gofannon.orchestration.FunctionOrchestrator - DEBUG - Available functions in orchestrator: exponents, multiplication, division, addition, subtraction, sequential_cot\n",
            "2025-03-25 06:24:14,518 - gofannon.orchestration.FunctionOrchestrator - DEBUG - Starting workflow execution with query: Calculate ((2^3 * 5) + 10) / (4 - 1) using step-by-step function calls.\n",
            "2025-03-25 06:24:16,973 - gofannon.basic_math.exponents.Exponents - DEBUG - Initialized Exponents tool\n",
            "2025-03-25 06:24:16,974 - gofannon.basic_math.exponents - DEBUG - Raising 2.0 to the 3.0th power\n",
            "2025-03-25 06:24:16,975 - gofannon.basic_math.multiplication.Multiplication - DEBUG - Initialized Multiplication tool\n",
            "2025-03-25 06:24:16,976 - gofannon.basic_math.multiplication - DEBUG - Multiplying 5.0 by 8.0\n",
            "2025-03-25 06:24:16,977 - gofannon.basic_math.addition.Addition - DEBUG - Initialized Addition tool\n",
            "2025-03-25 06:24:16,978 - gofannon.basic_math.addition - DEBUG - Adding 10.0 and 40.0\n",
            "2025-03-25 06:24:16,978 - gofannon.basic_math.division.Division - DEBUG - Initialized Division tool\n",
            "2025-03-25 06:24:16,979 - gofannon.basic_math.division - DEBUG - Dividing 50.0 by 3.0\n"
          ]
        }
      ]
    },
    {
      "cell_type": "code",
      "source": [
        "print(result[\"final_answer\"]) # 8B Get's this right ~ 1/3 of the time..."
      ],
      "metadata": {
        "id": "3e8G-OE_XNri",
        "colab": {
          "base_uri": "https://localhost:8080/"
        },
        "outputId": "dab87d9b-8579-4e0b-fbd6-4b34e5159b64"
      },
      "execution_count": 4,
      "outputs": [
        {
          "output_type": "stream",
          "name": "stdout",
          "text": [
            "This calculation is correct because:\n",
            "\n",
            "1. 2^3 = 8\n",
            "2. 8 * 5 = 40\n",
            "3. 40 + 10 = 50\n",
            "4. 4 - 1 = 3\n",
            "5. 50 / 3 = 16.666666666666668\n"
          ]
        }
      ]
    }
  ],
  "metadata": {
    "colab": {
      "provenance": []
    },
    "kernelspec": {
      "display_name": "Python 3",
      "name": "python3"
    },
    "language_info": {
      "name": "python"
    }
  },
  "nbformat": 4,
  "nbformat_minor": 0
}