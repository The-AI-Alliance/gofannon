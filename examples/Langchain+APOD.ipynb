{
 "cells": [
  {
   "cell_type": "markdown",
   "metadata": {},
   "source": [
    "# Introduction\n",
    "This notebook shows how to create a LangChain agent using a NASA Astronomy Photo of the Day tool, built using the `gofannon` library.\n",
    "In this notebook, I'm going to:\n",
    "- Load a tool that fetches NASA's Astronomy Picture of the Day (APOD) using their public API.\n",
    "- Wrap that tool with LangChain so it can be used by an agent.\n",
    "- Initialize a LangChain agnt using OpenAI's API\n",
    "- Ask the agent natural language questions like \"What's today's astronomy picture?\"\n",
    "- Have the agent retrieve and explain the image content using the APOD tool as its reasoning backend."
   ]
  },
  {
   "cell_type": "markdown",
   "metadata": {},
   "source": [
    "### What is `AstronomyPhotoOfTheDayTool`?\n",
    "\n",
    "The `AstronomyPhotoOfTheDayTool` fetches data from NASA's **Astronomy Picture of the Day** API and returns:\n",
    "\n",
    "- The image or video URL\n",
    "- The title and explanation\n",
    "- The date of the APOD\n"
   ]
  },
  {
   "cell_type": "markdown",
   "metadata": {},
   "source": [
    "# Imports and setup\n",
    "Install dependencies, import packages, and set up API keys.\n"
   ]
  },
  {
   "cell_type": "code",
   "execution_count": 31,
   "metadata": {},
   "outputs": [
    {
     "name": "stderr",
     "output_type": "stream",
     "text": [
      "\n",
      "[notice] A new release of pip is available: 24.3.1 -> 25.0.1\n",
      "[notice] To update, run: python.exe -m pip install --upgrade pip\n"
     ]
    }
   ],
   "source": [
    "!pip install langchain-openai langchain-community gofannon[langflow] --quiet"
   ]
  },
  {
   "cell_type": "markdown",
   "metadata": {},
   "source": [
    "# Why These Libraries?\n",
    "- `langchain-openai`: Integrates OpenAI models with LangChain for reasoning and decision-making.\n",
    "\n",
    "- `langchain-community`: Core framework for building LangChain agents and workflows.\n",
    "\n",
    "- `gofannon[langflow]`: Provides tools like NASA’s APOD API, which can be wrapped into LangChain for use in agents.\n",
    "\n",
    "These libraries enable building an intelligent agent that can interact with external APIs and respond to user queries, and the `--quiet` keywords suppresses non-essential information and only shows warnings and errors."
   ]
  },
  {
   "cell_type": "markdown",
   "metadata": {},
   "source": [
    "# Setting API Keys\n",
    "\n",
    "The following code may seem complex, but the gofannon project standardizes our examples on Google Colab because it provides users around the world with a consistent environment for experimentation, and when using \"CPU Only\" mode (which almost all of our examples are), it is free. So the following code will attempt to load environment secrets the Colab way, and if that fails, will attempt to load them from environment variables.\n",
    "\n",
    "You as the user could also delete the code that follows and replace it with:\n",
    "\n",
    "```python\n",
    "openai_api_key = \"<YOUR OPENAI KEY>\"\n",
    "nasa_api_key = \"<YOUR NASA KEY>\"\n"
   ]
  },
  {
   "cell_type": "code",
   "execution_count": null,
   "metadata": {},
   "outputs": [],
   "source": [
    "import os\n",
    "import requests\n",
    "from langchain_openai import ChatOpenAI\n",
    "from langchain.agents import initialize_agent, AgentType\n",
    "from langchain.tools import Tool\n",
    "\n",
    "colab_present = False\n",
    "try:\n",
    "    from google.colab import userdata\n",
    "    colab_present = True\n",
    "except ImportError:\n",
    "    pass\n",
    "\n",
    "if colab_present:\n",
    "    openai_api_key = userdata.get('open_ai_key')\n",
    "    nasa_api_key = userdata.get('nasa_api_key')\n",
    "else:\n",
    "    openai_api_key = os.environ['OPENAI_API_KEY']\n",
    "    nasa_api_key = os.environ['NASA_API_KEY']"
   ]
  },
  {
   "cell_type": "markdown",
   "metadata": {},
   "source": [
    "# Load the tool\n",
    "This example uses the NASA `AstronomyPictureOfTheDayTool` to fetch the Astronomy Picture Of The Day.\n",
    "The APOD API provides daily space and astronomy related images along with short descriptions written by professional astronomers.\n",
    "\n",
    "You can register for a free NASA API key here: https://api.nasa.gov/\n"
   ]
  },
  {
   "cell_type": "code",
   "execution_count": null,
   "metadata": {},
   "outputs": [],
   "source": [
    "\n",
    "from gofannon.nasa.apod import AstronomyPhotoOfTheDayTool\n",
    "\n",
    "apod_instance = AstronomyPhotoOfTheDayTool(api_key=nasa_api_key)\n",
    "apod_tool = apod_instance.export_to_langchain()\n"
   ]
  },
  {
   "cell_type": "markdown",
   "metadata": {},
   "source": [
    "# Initializing the LangChain agent"
   ]
  },
  {
   "cell_type": "code",
   "execution_count": null,
   "metadata": {},
   "outputs": [],
   "source": [
    "llm = ChatOpenAI(\n",
    "    model_name=\"gpt-4o-2024-08-06\",\n",
    "    openai_api_key=openai_api_key,\n",
    ")"
   ]
  },
  {
   "cell_type": "markdown",
   "metadata": {},
   "source": [
    "## Abut the LangChain Agent\n",
    "\n",
    "This agent uses LangChain’s `initialize_agent` function with the `OPENAI_FUNCTIONS` type, which makes GPT-4o behave like a function-calling assistant.\n",
    "\n",
    "The agent:\n",
    "- Receives your question as input\n",
    "- Decides whether to invoke the APOD tool\n",
    "- Uses the tool’s response as context\n",
    "- Replies with a final, coherent answer"
   ]
  },
  {
   "cell_type": "code",
   "execution_count": null,
   "metadata": {},
   "outputs": [],
   "source": [
    "# Register the agent with the tool\n",
    "agent = initialize_agent(\n",
    "    tools=[apod_tool],\n",
    "    llm=llm,\n",
    "    agent=AgentType.OPENAI_FUNCTIONS,\n",
    "    verbose=True,\n",
    "    handle_parsing_errors=True,\n",
    ")"
   ]
  },
  {
   "cell_type": "markdown",
   "metadata": {},
   "source": [
    "# Running a Query\n"
   ]
  },
  {
   "cell_type": "code",
   "execution_count": null,
   "metadata": {},
   "outputs": [],
   "source": [
    "query = \"What is the Astronomy Photo of the Day?\"\n",
    "response = agent.run(query)\n",
    "\n",
    "print(response)"
   ]
  }
 ],
 "metadata": {
  "kernelspec": {
   "display_name": "Python 3.13 (LangChain)",
   "language": "python",
   "name": "langchain313"
  },
  "language_info": {
   "codemirror_mode": {
    "name": "ipython",
    "version": 3
   },
   "file_extension": ".py",
   "mimetype": "text/x-python",
   "name": "python",
   "nbconvert_exporter": "python",
   "pygments_lexer": "ipython3",
   "version": "3.13.2"
  }
 },
 "nbformat": 4,
 "nbformat_minor": 2
}
