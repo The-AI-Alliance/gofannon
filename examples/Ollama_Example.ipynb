{
  "nbformat": 4,
  "nbformat_minor": 0,
  "metadata": {
    "colab": {
      "provenance": [],
      "gpuType": "T4"
    },
    "kernelspec": {
      "name": "python3",
      "display_name": "Python 3"
    },
    "language_info": {
      "name": "python"
    },
    "accelerator": "GPU"
  },
  "cells": [
    {
      "cell_type": "markdown",
      "source": [
        "## Install Gofannon"
      ],
      "metadata": {
        "id": "xXY8ttvnXYfn"
      }
    },
    {
      "cell_type": "code",
      "source": [
        "!pip install git+https://github.com/The-AI-Alliance/gofannon.git@main --quiet"
      ],
      "metadata": {
        "colab": {
          "base_uri": "https://localhost:8080/"
        },
        "id": "xL2deHv2bMdZ",
        "outputId": "2eb02b92-3157-479b-8198-538dad78b185"
      },
      "execution_count": 1,
      "outputs": [
        {
          "output_type": "stream",
          "name": "stdout",
          "text": [
            "  Installing build dependencies ... \u001b[?25l\u001b[?25hdone\n",
            "  Getting requirements to build wheel ... \u001b[?25l\u001b[?25hdone\n",
            "  Preparing metadata (pyproject.toml) ... \u001b[?25l\u001b[?25hdone\n",
            "\u001b[2K     \u001b[90m━━━━━━━━━━━━━━━━━━━━━━━━━━━━━━━━━━━━━━━━\u001b[0m \u001b[32m89.9/89.9 kB\u001b[0m \u001b[31m7.6 MB/s\u001b[0m eta \u001b[36m0:00:00\u001b[0m\n",
            "\u001b[2K   \u001b[90m━━━━━━━━━━━━━━━━━━━━━━━━━━━━━━━━━━━━━━━━\u001b[0m \u001b[32m90.5/90.5 kB\u001b[0m \u001b[31m9.8 MB/s\u001b[0m eta \u001b[36m0:00:00\u001b[0m\n",
            "\u001b[2K   \u001b[90m━━━━━━━━━━━━━━━━━━━━━━━━━━━━━━━━━━━━━━━━\u001b[0m \u001b[32m13.1/13.1 MB\u001b[0m \u001b[31m108.5 MB/s\u001b[0m eta \u001b[36m0:00:00\u001b[0m\n",
            "\u001b[2K   \u001b[90m━━━━━━━━━━━━━━━━━━━━━━━━━━━━━━━━━━━━━━━━\u001b[0m \u001b[32m3.3/3.3 MB\u001b[0m \u001b[31m87.3 MB/s\u001b[0m eta \u001b[36m0:00:00\u001b[0m\n",
            "\u001b[?25h  Building wheel for gofannon (pyproject.toml) ... \u001b[?25l\u001b[?25hdone\n",
            "\u001b[31mERROR: pip's dependency resolver does not currently take into account all the packages that are installed. This behaviour is the source of the following dependency conflicts.\n",
            "google-colab 1.0.0 requires pandas==2.2.2, but you have pandas 2.2.3 which is incompatible.\u001b[0m\u001b[31m\n",
            "\u001b[0m"
          ]
        }
      ]
    },
    {
      "cell_type": "markdown",
      "source": [
        "## Install Ollama"
      ],
      "metadata": {
        "id": "Id2bOhuIXbiN"
      }
    },
    {
      "cell_type": "code",
      "execution_count": null,
      "metadata": {
        "id": "fATMFJwWZnIk"
      },
      "outputs": [],
      "source": [
        "!curl https://ollama.ai/install.sh | sh"
      ]
    },
    {
      "cell_type": "markdown",
      "source": [
        "## Start Ollama Running in the Background"
      ],
      "metadata": {
        "id": "6T3-t5NiXf08"
      }
    },
    {
      "cell_type": "code",
      "source": [
        "import os\n",
        "os.system(\"nohup ollama serve &\")"
      ],
      "metadata": {
        "id": "Bm5knNwratjb"
      },
      "execution_count": null,
      "outputs": []
    },
    {
      "cell_type": "markdown",
      "source": [
        "## Pull a Small Model\n",
        "\n",
        "NOTE: Ollama lobotomizes models, and lobotomized models have unpedictable output.\n",
        "\n",
        "This entire notebook is provided as a convienience demo for Ollama users, but the authors can not in good faith recommend users use `ollama` in any kind of production use case.  "
      ],
      "metadata": {
        "id": "6xuzUv7ZXkkX"
      }
    },
    {
      "cell_type": "code",
      "source": [
        "!ollama pull llama3.1:8b"
      ],
      "metadata": {
        "id": "qt6BwLLPdZBK",
        "collapsed": true
      },
      "execution_count": null,
      "outputs": []
    },
    {
      "cell_type": "markdown",
      "source": [
        "## The Example\n",
        "\n",
        "This is a direct copy of the `Complex_Math` example, except the `model_name` and `base_url` are changed.\n",
        "\n",
        "Not the answer is _close_ to correct, but lacks precision, which to be fair, you did to the model first when you lobotomized it down to whatever `ollama` set as the default for this model."
      ],
      "metadata": {
        "id": "RhtDY4oPYF1q"
      }
    },
    {
      "cell_type": "code",
      "source": [
        "from openai import OpenAI\n",
        "from gofannon.orchestration import FunctionOrchestrator\n",
        "\n",
        "from gofannon.basic_math.exponents import Exponents\n",
        "from gofannon.basic_math.multiplication import Multiplication\n",
        "from gofannon.basic_math.division import Division\n",
        "from gofannon.basic_math.addition import Addition\n",
        "from gofannon.basic_math.subtraction import Subtraction\n",
        "from gofannon.reasoning.sequential_cot import SequentialCoT\n",
        "\n",
        "import logging\n",
        "logging.getLogger('gofannon').setLevel(logging.DEBUG)\n",
        "\n",
        "CUSTOM_DEPTH_CHART = [\n",
        "    {\n",
        "        \"model_name\": \"llama3.1:8b\",\n",
        "        \"base_url\": \"http://localhost:11434/v1\",\n",
        "        \"api_key\": \"required but unsed\",\n",
        "        \"temperature\": 0.0\n",
        "    },\n",
        "    {\n",
        "        \"model_name\": \"llama3.1:8b\",\n",
        "        \"base_url\": \"http://localhost:11434/v1\",\n",
        "        \"api_key\": \"required but unsed\",\n",
        "        \"temperature\": 0.0\n",
        "    },\n",
        "    {  # Level 2 - Final synthesis\n",
        "        \"model_name\": \"llama3.1:8b\",\n",
        "        \"base_url\": \"http://localhost:11434/v1\",\n",
        "        \"api_key\": \"required but unused\",\n",
        "        \"temperature\": 0.0,\n",
        "        \"prompt_appendix\": \"\\n\\nFormat your final answer with calculations shown.\"\n",
        "    }\n",
        "]\n",
        "\n",
        "# 2. Configure tool parameters including depth charts\n",
        "TOOL_CONFIGS = {\n",
        "    \"sequential_cot\": {\n",
        "        \"depth_chart\": CUSTOM_DEPTH_CHART,\n",
        "    }\n",
        "}\n",
        "\n",
        "# Debug statement to confirm registration\n",
        "from gofannon.config import FunctionRegistry\n",
        "print(\"Registered tools:\", FunctionRegistry.get_tools())\n",
        "\n",
        "# Client configured with pre-loaded API keys\n",
        "llm_client =  OpenAI(\n",
        "    api_key=\"required but unsed\",\n",
        "    base_url=\"http://localhost:11434/v1\",\n",
        ")\n",
        "\n",
        "\n",
        "# 3. Create orchestrator with custom configurations\n",
        "orchestrator = FunctionOrchestrator(\n",
        "    llm_client=llm_client,\n",
        "    tool_configs=TOOL_CONFIGS\n",
        ")\n",
        "\n",
        "# Complex math workflow triggered by natural language\n",
        "result = orchestrator.execute_workflow(\n",
        "    user_query = \"Calculate ((2^3 * 5) + 10) / (4 - 1) step-by-step\",\n",
        "    model_name = \"llama3.1:8b\"\n",
        ")\n",
        "\n",
        "print(result[\"final_answer\"]) # 8B Get's this right ~ 1/3 of the time..."
      ],
      "metadata": {
        "colab": {
          "base_uri": "https://localhost:8080/"
        },
        "id": "gyWtGH_FfeYA",
        "outputId": "7a80ea95-5d49-41f7-99a3-814a39a8d086"
      },
      "execution_count": 5,
      "outputs": [
        {
          "output_type": "stream",
          "name": "stderr",
          "text": [
            "2025-02-06 17:44:08,659 - gofannon.basic_math.exponents.Exponents - DEBUG - Initialized Exponents tool\n",
            "2025-02-06 17:44:08,661 - gofannon.basic_math.multiplication.Multiplication - DEBUG - Initialized Multiplication tool\n",
            "2025-02-06 17:44:08,665 - gofannon.basic_math.division.Division - DEBUG - Initialized Division tool\n",
            "2025-02-06 17:44:08,666 - gofannon.basic_math.addition.Addition - DEBUG - Initialized Addition tool\n",
            "2025-02-06 17:44:08,669 - gofannon.basic_math.subtraction.Subtraction - DEBUG - Initialized Subtraction tool\n",
            "2025-02-06 17:44:08,670 - gofannon.reasoning.sequential_cot.SequentialCoT - DEBUG - Initialized SequentialCoT tool\n",
            "2025-02-06 17:44:08,806 - gofannon.basic_math.exponents.Exponents - DEBUG - Initialized Exponents tool\n",
            "2025-02-06 17:44:08,807 - gofannon.basic_math.multiplication.Multiplication - DEBUG - Initialized Multiplication tool\n",
            "2025-02-06 17:44:08,810 - gofannon.basic_math.division.Division - DEBUG - Initialized Division tool\n",
            "2025-02-06 17:44:08,811 - gofannon.basic_math.addition.Addition - DEBUG - Initialized Addition tool\n",
            "2025-02-06 17:44:08,812 - gofannon.basic_math.subtraction.Subtraction - DEBUG - Initialized Subtraction tool\n",
            "2025-02-06 17:44:08,813 - gofannon.reasoning.sequential_cot.SequentialCoT - DEBUG - Initialized SequentialCoT tool\n",
            "2025-02-06 17:44:08,814 - gofannon.orchestration.FunctionOrchestrator - DEBUG - Available functions in orchestrator: exponents, multiplication, division, addition, subtraction, sequential_cot\n",
            "2025-02-06 17:44:08,815 - gofannon.orchestration.FunctionOrchestrator - DEBUG - Starting workflow execution with query: Calculate ((2^3 * 5) + 10) / (4 - 1) step-by-step\n"
          ]
        },
        {
          "output_type": "stream",
          "name": "stdout",
          "text": [
            "Registered tools: [{'type': 'function', 'function': {'name': 'exponents', 'description': 'Calculate the result of a number raised to a power', 'parameters': {'type': 'object', 'properties': {'base': {'type': 'number', 'description': 'The base number'}, 'power': {'type': 'number', 'description': 'The power to which the base is raised'}}, 'required': ['base', 'power']}}}, {'type': 'function', 'function': {'name': 'multiplication', 'description': 'Calculate the product of two numbers', 'parameters': {'type': 'object', 'properties': {'num1': {'type': 'number', 'description': 'The first number'}, 'num2': {'type': 'number', 'description': 'The second number'}}, 'required': ['num1', 'num2']}}}, {'type': 'function', 'function': {'name': 'division', 'description': 'Calculate the quotient of two numbers', 'parameters': {'type': 'object', 'properties': {'num1': {'type': 'number', 'description': 'The dividend'}, 'num2': {'type': 'number', 'description': 'The divisor'}}, 'required': ['num1', 'num2']}}}, {'type': 'function', 'function': {'name': 'addition', 'description': 'Calculate the sum of two numbers', 'parameters': {'type': 'object', 'properties': {'num1': {'type': 'number', 'description': 'The first number'}, 'num2': {'type': 'number', 'description': 'The second number'}}, 'required': ['num1', 'num2']}}}, {'type': 'function', 'function': {'name': 'subtraction', 'description': 'Calculate the difference between two numbers', 'parameters': {'type': 'object', 'properties': {'num1': {'type': 'number', 'description': 'The minuend'}, 'num2': {'type': 'number', 'description': 'The subtrahend'}}, 'required': ['num1', 'num2']}}}, {'type': 'function', 'function': {'name': 'sequential_cot', 'description': 'Generate a series of steps required to solve a problem using Chain-of-Thought reasoning.', 'parameters': {'type': 'object', 'properties': {'prompt': {'type': 'string', 'description': 'The prompt to generate steps for.'}, 'steps': {'type': 'number', 'description': 'How many steps to take. (Default 3)'}}, 'required': ['prompt', 'steps']}}}]\n"
          ]
        },
        {
          "output_type": "stream",
          "name": "stderr",
          "text": [
            "2025-02-06 17:44:19,799 - gofannon.reasoning.sequential_cot.SequentialCoT - DEBUG - Initialized SequentialCoT tool\n",
            "2025-02-06 17:44:19,800 - gofannon.reasoning.sequential_cot - DEBUG - Starting SequentialCoT with 100 steps\n"
          ]
        },
        {
          "output_type": "stream",
          "name": "stdout",
          "text": [
            "Unfortunately, it seems like there was an issue using my tool calling capability. Let me try the calculation manually.\n",
            "\n",
            "Here's the step-by-step process:\n",
            "\n",
            "\n",
            "1. First, calculate 2^3:\n",
            "   2^3 = 8\n",
            "\n",
            "\n",
            "2. Now, multiply 8 by 5:\n",
            "   8 * 5 = 40\n",
            "\n",
            "\n",
            "3. Calculate the result of (2^3 * 5):\n",
            "   Result: 40\n",
            "\n",
            "\n",
            "4. Add 10 to that:\n",
            "   40 + 10 = 50\n",
            "\n",
            "\n",
            "5. Next, subtract 1 from 4 in the denominator:\n",
            "   4 - 1 = 3\n",
            "\n",
            "\n",
            "6. Now divide the result, 50, by 3 in the denominator:\n",
            "   Result: 16 (rounded to the nearest whole number)\n",
            "\n",
            "\n",
            "So the final answer is 16.\n"
          ]
        }
      ]
    }
  ]
}