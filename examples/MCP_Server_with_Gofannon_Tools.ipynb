{
  "cells": [
    {
      "cell_type": "markdown",
      "metadata": {
        "id": "YGR7Sg7YtGAz"
      },
      "source": [
        "# Running `gofannon` on MCP\n",
        "\n",
        "If you're reading/interest in this, you're probably running Anthropic's Desktop\n",
        "client, which unfortunately _will not work_ with this Colab notebook. However,\n",
        "we leave this guide here to help you get setup and running on your laptop.\n",
        "\n",
        "MCP (in the author's opinion) does not have any real world use case beyond Anthropic Desktop at this time, but he was compelled by his `$DAYJOB` to integrate it anyway as it is the flavor of the week in the AI hype cycle. If you're using Anthropic Desktop, odds on you won't be able to port this notebook for local usage, however if you reach out to us on Discord, we can try to help you.\n"
      ]
    },
    {
      "cell_type": "markdown",
      "metadata": {
        "id": "tqQ3KypQuQNa"
      },
      "source": [
        "The following is an example `server.py`. You can update it to use any `gofannon` tool, only the `Addition` tool is included below- but any tool can be added with the `.export_to_mcp` method."
      ]
    },
    {
      "cell_type": "code",
      "execution_count": 2,
      "metadata": {
        "colab": {
          "base_uri": "https://localhost:8080/"
        },
        "id": "YGD1EPx3M49l",
        "outputId": "4e22d09b-a6ff-475d-dbcd-53601b2157e1"
      },
      "outputs": [
        {
          "name": "stdout",
          "output_type": "stream",
          "text": [
            "Writing gofannon_server.py\n"
          ]
        }
      ],
      "source": [
        "%%writefile gofannon_server.py\n",
        "from mcp.server.fastmcp import FastMCP\n",
        "from gofannon.basic_math.addition import Addition\n",
        "\n",
        "# Create an MCP server\n",
        "mcp = FastMCP(\"Gofannon Demo\")\n",
        "\n",
        "# Add an addition tool\n",
        "add = Addition()\n",
        "add.export_to_mcp(mcp)"
      ]
    },
    {
      "cell_type": "markdown",
      "metadata": {
        "id": "viB6b8WTvOTk"
      },
      "source": [
        "Next we'll install `cmcp` (curl MCP) by RusselLuo. You can find the source for this simple app [on github](https://github.com/RussellLuo/cmcp).\n",
        "\n",
        "Note this example only creates a MCP server and verifies that it is functional, it does not contain the tooling for doing anything Agentic- that requires Anthropic Desktop, which is incompatible with Linux."
      ]
    },
    {
      "cell_type": "code",
      "execution_count": 4,
      "metadata": {
        "colab": {
          "base_uri": "https://localhost:8080/"
        },
        "id": "CuCjFIOw3YVi",
        "outputId": "73818582-22d3-42d8-ca0e-7defae8b362f"
      },
      "outputs": [
        {
          "name": "stdout",
          "output_type": "stream",
          "text": [
            "\u001b[?25l   \u001b[90m━━━━━━━━━━━━━━━━━━━━━━━━━━━━━━━━━━━━━━━━\u001b[0m \u001b[32m0.0/73.7 kB\u001b[0m \u001b[31m?\u001b[0m eta \u001b[36m-:--:--\u001b[0m\r\u001b[2K   \u001b[90m━━━━━━━━━━━━━━━━━━━━━━━━━━━━━━━━━━━━━━━━\u001b[0m \u001b[32m73.7/73.7 kB\u001b[0m \u001b[31m2.9 MB/s\u001b[0m eta \u001b[36m0:00:00\u001b[0m\n",
            "\u001b[?25h\u001b[?25l   \u001b[90m━━━━━━━━━━━━━━━━━━━━━━━━━━━━━━━━━━━━━━━━\u001b[0m \u001b[32m0.0/1.2 MB\u001b[0m \u001b[31m?\u001b[0m eta \u001b[36m-:--:--\u001b[0m\r\u001b[2K   \u001b[91m━━━━━━━━━━━━━━━━━━━━━━━━━━━━━━━━━━━━━━━\u001b[0m\u001b[91m╸\u001b[0m \u001b[32m1.2/1.2 MB\u001b[0m \u001b[31m39.1 MB/s\u001b[0m eta \u001b[36m0:00:01\u001b[0m\r\u001b[2K   \u001b[90m━━━━━━━━━━━━━━━━━━━━━━━━━━━━━━━━━━━━━━━━\u001b[0m \u001b[32m1.2/1.2 MB\u001b[0m \u001b[31m24.2 MB/s\u001b[0m eta \u001b[36m0:00:00\u001b[0m\n",
            "\u001b[?25h\u001b[?25l   \u001b[90m━━━━━━━━━━━━━━━━━━━━━━━━━━━━━━━━━━━━━━━━\u001b[0m \u001b[32m0.0/72.0 kB\u001b[0m \u001b[31m?\u001b[0m eta \u001b[36m-:--:--\u001b[0m\r\u001b[2K   \u001b[90m━━━━━━━━━━━━━━━━━━━━━━━━━━━━━━━━━━━━━━━━\u001b[0m \u001b[32m72.0/72.0 kB\u001b[0m \u001b[31m4.8 MB/s\u001b[0m eta \u001b[36m0:00:00\u001b[0m\n",
            "\u001b[?25h\u001b[?25l   \u001b[90m━━━━━━━━━━━━━━━━━━━━━━━━━━━━━━━━━━━━━━━━\u001b[0m \u001b[32m0.0/62.3 kB\u001b[0m \u001b[31m?\u001b[0m eta \u001b[36m-:--:--\u001b[0m\r\u001b[2K   \u001b[90m━━━━━━━━━━━━━━━━━━━━━━━━━━━━━━━━━━━━━━━━\u001b[0m \u001b[32m62.3/62.3 kB\u001b[0m \u001b[31m4.2 MB/s\u001b[0m eta \u001b[36m0:00:00\u001b[0m\n",
            "\u001b[?25h\u001b[31mERROR: pip's dependency resolver does not currently take into account all the packages that are installed. This behaviour is the source of the following dependency conflicts.\n",
            "ipython 7.34.0 requires jedi>=0.16, which is not installed.\u001b[0m\u001b[31m\n",
            "\u001b[0m"
          ]
        }
      ],
      "source": [
        "!pip install cmcp --quiet"
      ]
    },
    {
      "cell_type": "markdown",
      "metadata": {
        "id": "J5uan9MEwFUH"
      },
      "source": [
        "We'll also need to install `gofannon`"
      ]
    },
    {
      "cell_type": "code",
      "execution_count": 1,
      "metadata": {
        "colab": {
          "base_uri": "https://localhost:8080/"
        },
        "id": "dBg2kVw4apqO",
        "outputId": "c843185a-a298-43ae-c5ff-ce87001eb692"
      },
      "outputs": [
        {
          "name": "stdout",
          "output_type": "stream",
          "text": [
            "  Installing build dependencies ... \u001b[?25l\u001b[?25hdone\n",
            "  Getting requirements to build wheel ... \u001b[?25l\u001b[?25hdone\n",
            "  Preparing metadata (pyproject.toml) ... \u001b[?25l\u001b[?25hdone\n",
            "\u001b[2K   \u001b[90m━━━━━━━━━━━━━━━━━━━━━━━━━━━━━━━━━━━━━━━━\u001b[0m \u001b[32m410.5/410.5 kB\u001b[0m \u001b[31m8.8 MB/s\u001b[0m eta \u001b[36m0:00:00\u001b[0m\n",
            "\u001b[2K   \u001b[90m━━━━━━━━━━━━━━━━━━━━━━━━━━━━━━━━━━━━━━━━\u001b[0m \u001b[32m856.7/856.7 kB\u001b[0m \u001b[31m27.1 MB/s\u001b[0m eta \u001b[36m0:00:00\u001b[0m\n",
            "\u001b[?25h  Building wheel for gofannon (pyproject.toml) ... \u001b[?25l\u001b[?25hdone\n"
          ]
        }
      ],
      "source": [
        "!pip install gofannon --quiet"
      ]
    },
    {
      "cell_type": "markdown",
      "metadata": {
        "id": "TxejFulcwRfW"
      },
      "source": [
        "First we will list all tools registered with the server. We see there is only one tool, `addition`, which is what we expected."
      ]
    },
    {
      "cell_type": "code",
      "execution_count": 5,
      "metadata": {
        "colab": {
          "base_uri": "https://localhost:8080/"
        },
        "id": "92zthzE6S8pZ",
        "outputId": "84b57701-e1c0-4040-80da-1b5a811913be"
      },
      "outputs": [
        {
          "name": "stdout",
          "output_type": "stream",
          "text": [
            "{\u001b[37m\u001b[39;49;00m\n",
            "\u001b[37m  \u001b[39;49;00m\u001b[94m\"meta\"\u001b[39;49;00m:\u001b[37m \u001b[39;49;00m\u001b[34mnull\u001b[39;49;00m,\u001b[37m\u001b[39;49;00m\n",
            "\u001b[37m  \u001b[39;49;00m\u001b[94m\"nextCursor\"\u001b[39;49;00m:\u001b[37m \u001b[39;49;00m\u001b[34mnull\u001b[39;49;00m,\u001b[37m\u001b[39;49;00m\n",
            "\u001b[37m  \u001b[39;49;00m\u001b[94m\"tools\"\u001b[39;49;00m:\u001b[37m \u001b[39;49;00m[\u001b[37m\u001b[39;49;00m\n",
            "\u001b[37m    \u001b[39;49;00m{\u001b[37m\u001b[39;49;00m\n",
            "\u001b[37m      \u001b[39;49;00m\u001b[94m\"name\"\u001b[39;49;00m:\u001b[37m \u001b[39;49;00m\u001b[33m\"addition\"\u001b[39;49;00m,\u001b[37m\u001b[39;49;00m\n",
            "\u001b[37m      \u001b[39;49;00m\u001b[94m\"description\"\u001b[39;49;00m:\u001b[37m \u001b[39;49;00m\u001b[33m\"{\\\"type\\\": \\\"function\\\", \\\"function\\\": {\\\"name\\\": \\\"addition\\\", \\\"description\\\": \\\"Calculate the sum of two numbers\\\", \\\"parameters\\\": {\\\"type\\\": \\\"object\\\", \\\"properties\\\": {\\\"num1\\\": {\\\"type\\\": \\\"number\\\", \\\"description\\\": \\\"The first number\\\"}, \\\"num2\\\": {\\\"type\\\": \\\"number\\\", \\\"description\\\": \\\"The second number\\\"}}, \\\"required\\\": [\\\"num1\\\", \\\"num2\\\"]}}}\"\u001b[39;49;00m,\u001b[37m\u001b[39;49;00m\n",
            "\u001b[37m      \u001b[39;49;00m\u001b[94m\"inputSchema\"\u001b[39;49;00m:\u001b[37m \u001b[39;49;00m{\u001b[37m\u001b[39;49;00m\n",
            "\u001b[37m        \u001b[39;49;00m\u001b[94m\"properties\"\u001b[39;49;00m:\u001b[37m \u001b[39;49;00m{\u001b[37m\u001b[39;49;00m\n",
            "\u001b[37m          \u001b[39;49;00m\u001b[94m\"num1\"\u001b[39;49;00m:\u001b[37m \u001b[39;49;00m{\u001b[37m\u001b[39;49;00m\n",
            "\u001b[37m            \u001b[39;49;00m\u001b[94m\"title\"\u001b[39;49;00m:\u001b[37m \u001b[39;49;00m\u001b[33m\"num1\"\u001b[39;49;00m,\u001b[37m\u001b[39;49;00m\n",
            "\u001b[37m            \u001b[39;49;00m\u001b[94m\"type\"\u001b[39;49;00m:\u001b[37m \u001b[39;49;00m\u001b[33m\"string\"\u001b[39;49;00m\u001b[37m\u001b[39;49;00m\n",
            "\u001b[37m          \u001b[39;49;00m},\u001b[37m\u001b[39;49;00m\n",
            "\u001b[37m          \u001b[39;49;00m\u001b[94m\"num2\"\u001b[39;49;00m:\u001b[37m \u001b[39;49;00m{\u001b[37m\u001b[39;49;00m\n",
            "\u001b[37m            \u001b[39;49;00m\u001b[94m\"title\"\u001b[39;49;00m:\u001b[37m \u001b[39;49;00m\u001b[33m\"num2\"\u001b[39;49;00m,\u001b[37m\u001b[39;49;00m\n",
            "\u001b[37m            \u001b[39;49;00m\u001b[94m\"type\"\u001b[39;49;00m:\u001b[37m \u001b[39;49;00m\u001b[33m\"string\"\u001b[39;49;00m\u001b[37m\u001b[39;49;00m\n",
            "\u001b[37m          \u001b[39;49;00m}\u001b[37m\u001b[39;49;00m\n",
            "\u001b[37m        \u001b[39;49;00m},\u001b[37m\u001b[39;49;00m\n",
            "\u001b[37m        \u001b[39;49;00m\u001b[94m\"required\"\u001b[39;49;00m:\u001b[37m \u001b[39;49;00m[\u001b[37m\u001b[39;49;00m\n",
            "\u001b[37m          \u001b[39;49;00m\u001b[33m\"num1\"\u001b[39;49;00m,\u001b[37m\u001b[39;49;00m\n",
            "\u001b[37m          \u001b[39;49;00m\u001b[33m\"num2\"\u001b[39;49;00m\u001b[37m\u001b[39;49;00m\n",
            "\u001b[37m        \u001b[39;49;00m],\u001b[37m\u001b[39;49;00m\n",
            "\u001b[37m        \u001b[39;49;00m\u001b[94m\"title\"\u001b[39;49;00m:\u001b[37m \u001b[39;49;00m\u001b[33m\"fnArguments\"\u001b[39;49;00m,\u001b[37m\u001b[39;49;00m\n",
            "\u001b[37m        \u001b[39;49;00m\u001b[94m\"type\"\u001b[39;49;00m:\u001b[37m \u001b[39;49;00m\u001b[33m\"object\"\u001b[39;49;00m\u001b[37m\u001b[39;49;00m\n",
            "\u001b[37m      \u001b[39;49;00m}\u001b[37m\u001b[39;49;00m\n",
            "\u001b[37m    \u001b[39;49;00m}\u001b[37m\u001b[39;49;00m\n",
            "\u001b[37m  \u001b[39;49;00m]\u001b[37m\u001b[39;49;00m\n",
            "}\u001b[37m\u001b[39;49;00m\n",
            "\n"
          ]
        }
      ],
      "source": [
        "!cmcp 'mcp run gofannon_server.py' tools/list"
      ]
    },
    {
      "cell_type": "markdown",
      "metadata": {
        "id": "U9gnUfvNwl2t"
      },
      "source": [
        "Finally, we will test the addition function works as expected. We will pass the numbers 1 and 2, and find we get the expected result \"3\" (in `content.text`)."
      ]
    },
    {
      "cell_type": "code",
      "execution_count": 6,
      "metadata": {
        "colab": {
          "base_uri": "https://localhost:8080/"
        },
        "id": "Kyvtni93TQNP",
        "outputId": "f8ece0c6-69f3-494f-8b61-cf8235485bf0"
      },
      "outputs": [
        {
          "name": "stdout",
          "output_type": "stream",
          "text": [
            "{\u001b[37m\u001b[39;49;00m\n",
            "\u001b[37m  \u001b[39;49;00m\u001b[94m\"meta\"\u001b[39;49;00m:\u001b[37m \u001b[39;49;00m\u001b[34mnull\u001b[39;49;00m,\u001b[37m\u001b[39;49;00m\n",
            "\u001b[37m  \u001b[39;49;00m\u001b[94m\"content\"\u001b[39;49;00m:\u001b[37m \u001b[39;49;00m[\u001b[37m\u001b[39;49;00m\n",
            "\u001b[37m    \u001b[39;49;00m{\u001b[37m\u001b[39;49;00m\n",
            "\u001b[37m      \u001b[39;49;00m\u001b[94m\"type\"\u001b[39;49;00m:\u001b[37m \u001b[39;49;00m\u001b[33m\"text\"\u001b[39;49;00m,\u001b[37m\u001b[39;49;00m\n",
            "\u001b[37m      \u001b[39;49;00m\u001b[94m\"text\"\u001b[39;49;00m:\u001b[37m \u001b[39;49;00m\u001b[33m\"3\"\u001b[39;49;00m,\u001b[37m\u001b[39;49;00m\n",
            "\u001b[37m      \u001b[39;49;00m\u001b[94m\"annotations\"\u001b[39;49;00m:\u001b[37m \u001b[39;49;00m\u001b[34mnull\u001b[39;49;00m\u001b[37m\u001b[39;49;00m\n",
            "\u001b[37m    \u001b[39;49;00m}\u001b[37m\u001b[39;49;00m\n",
            "\u001b[37m  \u001b[39;49;00m],\u001b[37m\u001b[39;49;00m\n",
            "\u001b[37m  \u001b[39;49;00m\u001b[94m\"isError\"\u001b[39;49;00m:\u001b[37m \u001b[39;49;00m\u001b[34mfalse\u001b[39;49;00m\u001b[37m\u001b[39;49;00m\n",
            "}\u001b[37m\u001b[39;49;00m\n",
            "\n"
          ]
        }
      ],
      "source": [
        "!cmcp 'mcp run gofannon_server.py' tools/call -d '{\"name\": \"addition\", \"arguments\": {\"num1\": 1, \"num2\": 2}}'"
      ]
    }
  ],
  "metadata": {
    "colab": {
      "provenance": []
    },
    "kernelspec": {
      "display_name": "Python 3",
      "name": "python3"
    },
    "language_info": {
      "name": "python"
    }
  },
  "nbformat": 4,
  "nbformat_minor": 0
}
