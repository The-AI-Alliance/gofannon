{
  "nbformat": 4,
  "nbformat_minor": 0,
  "metadata": {
    "colab": {
      "provenance": [],
      "toc_visible": true
    },
    "kernelspec": {
      "name": "python3",
      "display_name": "Python 3"
    },
    "language_info": {
      "name": "python"
    }
  },
  "cells": [
    {
      "cell_type": "markdown",
      "source": [
        "# Using `smolagents` with `gofannon`\n",
        "\n",
        "Based on the tutorial [here](https://huggingface.co/blog/smolagents) (also on their git [readme](https://github.com/huggingface/smolagents). )"
      ],
      "metadata": {
        "id": "-UxSVGW5eBiy"
      }
    },
    {
      "cell_type": "markdown",
      "source": [
        "## Install Dependencies\n",
        "\n",
        "`gofannon` and two extras\n",
        "- `google` required for Google Search - [Instructions for Setting up Programmable Search Engine](https://developers.google.com/custom-search/docs/tutorial/creatingcse). In the Control Panel, under `Augment Results` turn on `Search the entire web`.\n",
        "- `smolagents` this extra supports the interconnectivity with `smolagents`.\n",
        "\n",
        "\n",
        "**Note:** `smolagents` will be installed with the `gofannon` smolagents extra."
      ],
      "metadata": {
        "id": "X_Y095Oocfu6"
      }
    },
    {
      "cell_type": "code",
      "execution_count": 1,
      "metadata": {
        "id": "tKhZ_8NFcZUV"
      },
      "outputs": [],
      "source": [
        "!pip install gofannon[google,smolagents] --quiet"
      ]
    },
    {
      "cell_type": "markdown",
      "source": [
        "## Load the model (our first divergence)\n",
        "\n",
        "This is a CPU based Colab. I'm not trying to host a model on this, I'm using an\n",
        "API service (like an adult).\n",
        "\n",
        "So this is our first divergence from the example- we're not using `HfApiModel`."
      ],
      "metadata": {
        "id": "D5ry9b2IeN-E"
      }
    },
    {
      "cell_type": "code",
      "source": [
        "from smolagents import OpenAIServerModel\n",
        "from google.colab import userdata\n",
        "\n",
        "# I usually like Llama, but something is off with deepinfra + llama function calling.\n",
        "\n",
        "model = OpenAIServerModel(\n",
        "    model_id=\"gpt-4o\",\n",
        "    api_base=\"https://api.openai.com/v1\",\n",
        "    api_key=userdata.get('open_ai_key'),\n",
        ")"
      ],
      "metadata": {
        "id": "RqUr5MRqce9L"
      },
      "execution_count": 2,
      "outputs": []
    },
    {
      "cell_type": "markdown",
      "source": [
        "## Load the tool (our second divergence)\n",
        "\n",
        "The original example uses a `DuckDuckGoSearchTool`. But we're trying to show off\n",
        "`gofannon`, so we'll use the `gofannon.googlesearch` tool."
      ],
      "metadata": {
        "id": "FHPlv-gJek1J"
      }
    },
    {
      "cell_type": "code",
      "source": [
        "from gofannon.google_search.google_search import GoogleSearch\n",
        "from smolagents import DuckDuckGoSearchTool\n",
        "\n",
        "google_search = GoogleSearch(api_key=userdata.get(\"google_search\"), engine_id=\"75be790deec0c42f3\")\n",
        "\n",
        "# search_tool = DuckDuckGoSearchTool()\n",
        "search_tool = google_search.export_to_smolagents()"
      ],
      "metadata": {
        "id": "Htxoc9rJe4xN",
        "colab": {
          "base_uri": "https://localhost:8080/"
        },
        "outputId": "9da09703-1484-4249-a4e8-6375cb8f943a"
      },
      "execution_count": 3,
      "outputs": [
        {
          "output_type": "stream",
          "name": "stderr",
          "text": [

          ]
        }
      ]
    },
    {
      "cell_type": "markdown",
      "source": [
        "## Run the agent"
      ],
      "metadata": {
        "id": "qyHcH-YmzoUg"
      }
    },
    {
      "cell_type": "code",
      "source": [
        "from smolagents import CodeAgent\n",
        "\n",
        "agent = CodeAgent(tools=[search_tool], model=model)\n",
        "\n",
        "agent.run(\"How many seconds would it take for a leopard at full speed to run through Pont des Arts?\")"
      ],
      "metadata": {
        "colab": {
          "base_uri": "https://localhost:8080/",
          "height": 1000
        },
        "id": "WHV4XXKGd3dc",
        "outputId": "76d638e0-6486-436a-d501-d6fbf22cb562"
      },
      "execution_count": 4,
      "outputs": [
        {
          "output_type": "display_data",
          "data": {
            "text/plain": [
              "\u001b[38;2;212;183;2m╭─\u001b[0m\u001b[38;2;212;183;2m───────────────────────────────────────────────────\u001b[0m\u001b[38;2;212;183;2m \u001b[0m\u001b[1;38;2;212;183;2mNew run\u001b[0m\u001b[38;2;212;183;2m \u001b[0m\u001b[38;2;212;183;2m───────────────────────────────────────────────────\u001b[0m\u001b[38;2;212;183;2m─╮\u001b[0m\n",
              "\u001b[38;2;212;183;2m│\u001b[0m                                                                                                                 \u001b[38;2;212;183;2m│\u001b[0m\n",
              "\u001b[38;2;212;183;2m│\u001b[0m \u001b[1mHow many seconds would it take for a leopard at full speed to run through Pont des Arts?\u001b[0m                        \u001b[38;2;212;183;2m│\u001b[0m\n",
              "\u001b[38;2;212;183;2m│\u001b[0m                                                                                                                 \u001b[38;2;212;183;2m│\u001b[0m\n",
              "\u001b[38;2;212;183;2m╰─\u001b[0m\u001b[38;2;212;183;2m OpenAIServerModel - gpt-4o \u001b[0m\u001b[38;2;212;183;2m───────────────────────────────────────────────────────────────────────────────────\u001b[0m\u001b[38;2;212;183;2m─╯\u001b[0m\n"
            ],
            "text/html": [
              "<pre style=\"white-space:pre;overflow-x:auto;line-height:normal;font-family:Menlo,'DejaVu Sans Mono',consolas,'Courier New',monospace\"><span style=\"color: #d4b702; text-decoration-color: #d4b702\">╭──────────────────────────────────────────────────── </span><span style=\"color: #d4b702; text-decoration-color: #d4b702; font-weight: bold\">New run</span><span style=\"color: #d4b702; text-decoration-color: #d4b702\"> ────────────────────────────────────────────────────╮</span>\n",
              "<span style=\"color: #d4b702; text-decoration-color: #d4b702\">│</span>                                                                                                                 <span style=\"color: #d4b702; text-decoration-color: #d4b702\">│</span>\n",
              "<span style=\"color: #d4b702; text-decoration-color: #d4b702\">│</span> <span style=\"font-weight: bold\">How many seconds would it take for a leopard at full speed to run through Pont des Arts?</span>                        <span style=\"color: #d4b702; text-decoration-color: #d4b702\">│</span>\n",
              "<span style=\"color: #d4b702; text-decoration-color: #d4b702\">│</span>                                                                                                                 <span style=\"color: #d4b702; text-decoration-color: #d4b702\">│</span>\n",
              "<span style=\"color: #d4b702; text-decoration-color: #d4b702\">╰─ OpenAIServerModel - gpt-4o ────────────────────────────────────────────────────────────────────────────────────╯</span>\n",
              "</pre>\n"
            ]
          },
          "metadata": {}
        },
        {
          "output_type": "display_data",
          "data": {
            "text/plain": [
              "\u001b[38;2;212;183;2m━━━━━━━━━━━━━━━━━━━━━━━━━━━━━━━━━━━━━━━━━━━━━━━━━━━━━ \u001b[0m\u001b[1mStep \u001b[0m\u001b[1;36m1\u001b[0m\u001b[38;2;212;183;2m ━━━━━━━━━━━━━━━━━━━━━━━━━━━━━━━━━━━━━━━━━━━━━━━━━━━━━━\u001b[0m\n"
            ],
            "text/html": [
              "<pre style=\"white-space:pre;overflow-x:auto;line-height:normal;font-family:Menlo,'DejaVu Sans Mono',consolas,'Courier New',monospace\"><span style=\"color: #d4b702; text-decoration-color: #d4b702\">━━━━━━━━━━━━━━━━━━━━━━━━━━━━━━━━━━━━━━━━━━━━━━━━━━━━━ </span><span style=\"font-weight: bold\">Step </span><span style=\"color: #008080; text-decoration-color: #008080; font-weight: bold\">1</span><span style=\"color: #d4b702; text-decoration-color: #d4b702\"> ━━━━━━━━━━━━━━━━━━━━━━━━━━━━━━━━━━━━━━━━━━━━━━━━━━━━━━</span>\n",
              "</pre>\n"
            ]
          },
          "metadata": {}
        },
        {
          "output_type": "display_data",
          "data": {
            "text/plain": [
              " ─ \u001b[1mExecuting parsed code:\u001b[0m ──────────────────────────────────────────────────────────────────────────────────────── \n",
              "  \u001b[38;2;248;248;242;48;2;39;40;34mleopard_speed_info\u001b[0m\u001b[38;2;248;248;242;48;2;39;40;34m \u001b[0m\u001b[38;2;255;70;137;48;2;39;40;34m=\u001b[0m\u001b[38;2;248;248;242;48;2;39;40;34m \u001b[0m\u001b[38;2;248;248;242;48;2;39;40;34mgoogle_search\u001b[0m\u001b[38;2;248;248;242;48;2;39;40;34m(\u001b[0m\u001b[38;2;248;248;242;48;2;39;40;34mexample_arg\u001b[0m\u001b[38;2;255;70;137;48;2;39;40;34m=\u001b[0m\u001b[38;2;230;219;116;48;2;39;40;34m\"\u001b[0m\u001b[38;2;230;219;116;48;2;39;40;34mfull speed of a leopard\u001b[0m\u001b[38;2;230;219;116;48;2;39;40;34m\"\u001b[0m\u001b[38;2;248;248;242;48;2;39;40;34m)\u001b[0m\u001b[48;2;39;40;34m                                      \u001b[0m  \n",
              "  \u001b[38;2;248;248;242;48;2;39;40;34mpont_des_arts_length_info\u001b[0m\u001b[38;2;248;248;242;48;2;39;40;34m \u001b[0m\u001b[38;2;255;70;137;48;2;39;40;34m=\u001b[0m\u001b[38;2;248;248;242;48;2;39;40;34m \u001b[0m\u001b[38;2;248;248;242;48;2;39;40;34mgoogle_search\u001b[0m\u001b[38;2;248;248;242;48;2;39;40;34m(\u001b[0m\u001b[38;2;248;248;242;48;2;39;40;34mexample_arg\u001b[0m\u001b[38;2;255;70;137;48;2;39;40;34m=\u001b[0m\u001b[38;2;230;219;116;48;2;39;40;34m\"\u001b[0m\u001b[38;2;230;219;116;48;2;39;40;34mlength of Pont des Arts\u001b[0m\u001b[38;2;230;219;116;48;2;39;40;34m\"\u001b[0m\u001b[38;2;248;248;242;48;2;39;40;34m)\u001b[0m\u001b[48;2;39;40;34m                               \u001b[0m  \n",
              "  \u001b[38;2;248;248;242;48;2;39;40;34mprint\u001b[0m\u001b[38;2;248;248;242;48;2;39;40;34m(\u001b[0m\u001b[38;2;230;219;116;48;2;39;40;34m\"\u001b[0m\u001b[38;2;230;219;116;48;2;39;40;34mLeopard speed info:\u001b[0m\u001b[38;2;230;219;116;48;2;39;40;34m\"\u001b[0m\u001b[38;2;248;248;242;48;2;39;40;34m,\u001b[0m\u001b[38;2;248;248;242;48;2;39;40;34m \u001b[0m\u001b[38;2;248;248;242;48;2;39;40;34mleopard_speed_info\u001b[0m\u001b[38;2;248;248;242;48;2;39;40;34m)\u001b[0m\u001b[48;2;39;40;34m                                                               \u001b[0m  \n",
              "  \u001b[38;2;248;248;242;48;2;39;40;34mprint\u001b[0m\u001b[38;2;248;248;242;48;2;39;40;34m(\u001b[0m\u001b[38;2;230;219;116;48;2;39;40;34m\"\u001b[0m\u001b[38;2;230;219;116;48;2;39;40;34mPont des Arts length info:\u001b[0m\u001b[38;2;230;219;116;48;2;39;40;34m\"\u001b[0m\u001b[38;2;248;248;242;48;2;39;40;34m,\u001b[0m\u001b[38;2;248;248;242;48;2;39;40;34m \u001b[0m\u001b[38;2;248;248;242;48;2;39;40;34mpont_des_arts_length_info\u001b[0m\u001b[38;2;248;248;242;48;2;39;40;34m)\u001b[0m\u001b[48;2;39;40;34m                                                 \u001b[0m  \n",
              " ───────────────────────────────────────────────────────────────────────────────────────────────────────────────── \n"
            ],
            "text/html": [
              "<pre style=\"white-space:pre;overflow-x:auto;line-height:normal;font-family:Menlo,'DejaVu Sans Mono',consolas,'Courier New',monospace\"> ─ <span style=\"font-weight: bold\">Executing parsed code:</span> ──────────────────────────────────────────────────────────────────────────────────────── \n",
              "  <span style=\"color: #f8f8f2; text-decoration-color: #f8f8f2; background-color: #272822\">leopard_speed_info </span><span style=\"color: #ff4689; text-decoration-color: #ff4689; background-color: #272822\">=</span><span style=\"color: #f8f8f2; text-decoration-color: #f8f8f2; background-color: #272822\"> google_search(example_arg</span><span style=\"color: #ff4689; text-decoration-color: #ff4689; background-color: #272822\">=</span><span style=\"color: #e6db74; text-decoration-color: #e6db74; background-color: #272822\">\"full speed of a leopard\"</span><span style=\"color: #f8f8f2; text-decoration-color: #f8f8f2; background-color: #272822\">)</span><span style=\"background-color: #272822\">                                      </span>  \n",
              "  <span style=\"color: #f8f8f2; text-decoration-color: #f8f8f2; background-color: #272822\">pont_des_arts_length_info </span><span style=\"color: #ff4689; text-decoration-color: #ff4689; background-color: #272822\">=</span><span style=\"color: #f8f8f2; text-decoration-color: #f8f8f2; background-color: #272822\"> google_search(example_arg</span><span style=\"color: #ff4689; text-decoration-color: #ff4689; background-color: #272822\">=</span><span style=\"color: #e6db74; text-decoration-color: #e6db74; background-color: #272822\">\"length of Pont des Arts\"</span><span style=\"color: #f8f8f2; text-decoration-color: #f8f8f2; background-color: #272822\">)</span><span style=\"background-color: #272822\">                               </span>  \n",
              "  <span style=\"color: #f8f8f2; text-decoration-color: #f8f8f2; background-color: #272822\">print(</span><span style=\"color: #e6db74; text-decoration-color: #e6db74; background-color: #272822\">\"Leopard speed info:\"</span><span style=\"color: #f8f8f2; text-decoration-color: #f8f8f2; background-color: #272822\">, leopard_speed_info)</span><span style=\"background-color: #272822\">                                                               </span>  \n",
              "  <span style=\"color: #f8f8f2; text-decoration-color: #f8f8f2; background-color: #272822\">print(</span><span style=\"color: #e6db74; text-decoration-color: #e6db74; background-color: #272822\">\"Pont des Arts length info:\"</span><span style=\"color: #f8f8f2; text-decoration-color: #f8f8f2; background-color: #272822\">, pont_des_arts_length_info)</span><span style=\"background-color: #272822\">                                                 </span>  \n",
              " ───────────────────────────────────────────────────────────────────────────────────────────────────────────────── \n",
              "</pre>\n"
            ]
          },
          "metadata": {}
        },
        {
          "output_type": "display_data",
          "data": {
            "text/plain": [
              "\u001b[1;31mCode execution failed at line \u001b[0m\u001b[32m'leopard_speed_info = google_search\u001b[0m\u001b[32m(\u001b[0m\u001b[32mexample_arg\u001b[0m\u001b[32m=\u001b[0m\u001b[32m\"full\u001b[0m\u001b[32m speed of a leopard\"\u001b[0m\u001b[32m)\u001b[0m\u001b[32m'\u001b[0m\u001b[1;31m due to: \u001b[0m\n",
              "\u001b[1;31mTypeError: \u001b[0m\u001b[1;35mGoogleSearch.fn\u001b[0m\u001b[1;31m(\u001b[0m\u001b[1;31m)\u001b[0m\u001b[1;31m got an unexpected keyword argument \u001b[0m\u001b[32m'example_arg'\u001b[0m\n"
            ],
            "text/html": [
              "<pre style=\"white-space:pre;overflow-x:auto;line-height:normal;font-family:Menlo,'DejaVu Sans Mono',consolas,'Courier New',monospace\"><span style=\"color: #800000; text-decoration-color: #800000; font-weight: bold\">Code execution failed at line </span><span style=\"color: #008000; text-decoration-color: #008000\">'leopard_speed_info = google_search(example_arg=\"full speed of a leopard\")'</span><span style=\"color: #800000; text-decoration-color: #800000; font-weight: bold\"> due to: </span>\n",
              "<span style=\"color: #800000; text-decoration-color: #800000; font-weight: bold\">TypeError: </span><span style=\"color: #800080; text-decoration-color: #800080; font-weight: bold\">GoogleSearch.fn</span><span style=\"color: #800000; text-decoration-color: #800000; font-weight: bold\">() got an unexpected keyword argument </span><span style=\"color: #008000; text-decoration-color: #008000\">'example_arg'</span>\n",
              "</pre>\n"
            ]
          },
          "metadata": {}
        },
        {
          "output_type": "display_data",
          "data": {
            "text/plain": [
              "\u001b[2m[Step 1: Duration 3.25 seconds| Input tokens: 2,012 | Output tokens: 156]\u001b[0m\n"
            ],
            "text/html": [
              "<pre style=\"white-space:pre;overflow-x:auto;line-height:normal;font-family:Menlo,'DejaVu Sans Mono',consolas,'Courier New',monospace\"><span style=\"color: #7f7f7f; text-decoration-color: #7f7f7f\">[Step 1: Duration 3.25 seconds| Input tokens: 2,012 | Output tokens: 156]</span>\n",
              "</pre>\n"
            ]
          },
          "metadata": {}
        },
        {
          "output_type": "display_data",
          "data": {
            "text/plain": [
              "\u001b[38;2;212;183;2m━━━━━━━━━━━━━━━━━━━━━━━━━━━━━━━━━━━━━━━━━━━━━━━━━━━━━ \u001b[0m\u001b[1mStep \u001b[0m\u001b[1;36m2\u001b[0m\u001b[38;2;212;183;2m ━━━━━━━━━━━━━━━━━━━━━━━━━━━━━━━━━━━━━━━━━━━━━━━━━━━━━━\u001b[0m\n"
            ],
            "text/html": [
              "<pre style=\"white-space:pre;overflow-x:auto;line-height:normal;font-family:Menlo,'DejaVu Sans Mono',consolas,'Courier New',monospace\"><span style=\"color: #d4b702; text-decoration-color: #d4b702\">━━━━━━━━━━━━━━━━━━━━━━━━━━━━━━━━━━━━━━━━━━━━━━━━━━━━━ </span><span style=\"font-weight: bold\">Step </span><span style=\"color: #008080; text-decoration-color: #008080; font-weight: bold\">2</span><span style=\"color: #d4b702; text-decoration-color: #d4b702\"> ━━━━━━━━━━━━━━━━━━━━━━━━━━━━━━━━━━━━━━━━━━━━━━━━━━━━━━</span>\n",
              "</pre>\n"
            ]
          },
          "metadata": {}
        },
        {
          "output_type": "display_data",
          "data": {
            "text/plain": [
              " ─ \u001b[1mExecuting parsed code:\u001b[0m ──────────────────────────────────────────────────────────────────────────────────────── \n",
              "  \u001b[38;2;248;248;242;48;2;39;40;34mleopard_speed_info\u001b[0m\u001b[38;2;248;248;242;48;2;39;40;34m \u001b[0m\u001b[38;2;255;70;137;48;2;39;40;34m=\u001b[0m\u001b[38;2;248;248;242;48;2;39;40;34m \u001b[0m\u001b[38;2;248;248;242;48;2;39;40;34mgoogle_search\u001b[0m\u001b[38;2;248;248;242;48;2;39;40;34m(\u001b[0m\u001b[38;2;230;219;116;48;2;39;40;34m\"\u001b[0m\u001b[38;2;230;219;116;48;2;39;40;34mfull speed of a leopard\u001b[0m\u001b[38;2;230;219;116;48;2;39;40;34m\"\u001b[0m\u001b[38;2;248;248;242;48;2;39;40;34m)\u001b[0m\u001b[48;2;39;40;34m                                                  \u001b[0m  \n",
              "  \u001b[38;2;248;248;242;48;2;39;40;34mpont_des_arts_length_info\u001b[0m\u001b[38;2;248;248;242;48;2;39;40;34m \u001b[0m\u001b[38;2;255;70;137;48;2;39;40;34m=\u001b[0m\u001b[38;2;248;248;242;48;2;39;40;34m \u001b[0m\u001b[38;2;248;248;242;48;2;39;40;34mgoogle_search\u001b[0m\u001b[38;2;248;248;242;48;2;39;40;34m(\u001b[0m\u001b[38;2;230;219;116;48;2;39;40;34m\"\u001b[0m\u001b[38;2;230;219;116;48;2;39;40;34mlength of Pont des Arts\u001b[0m\u001b[38;2;230;219;116;48;2;39;40;34m\"\u001b[0m\u001b[38;2;248;248;242;48;2;39;40;34m)\u001b[0m\u001b[48;2;39;40;34m                                           \u001b[0m  \n",
              "  \u001b[38;2;248;248;242;48;2;39;40;34mprint\u001b[0m\u001b[38;2;248;248;242;48;2;39;40;34m(\u001b[0m\u001b[38;2;230;219;116;48;2;39;40;34m\"\u001b[0m\u001b[38;2;230;219;116;48;2;39;40;34mLeopard speed info:\u001b[0m\u001b[38;2;230;219;116;48;2;39;40;34m\"\u001b[0m\u001b[38;2;248;248;242;48;2;39;40;34m,\u001b[0m\u001b[38;2;248;248;242;48;2;39;40;34m \u001b[0m\u001b[38;2;248;248;242;48;2;39;40;34mleopard_speed_info\u001b[0m\u001b[38;2;248;248;242;48;2;39;40;34m)\u001b[0m\u001b[48;2;39;40;34m                                                               \u001b[0m  \n",
              "  \u001b[38;2;248;248;242;48;2;39;40;34mprint\u001b[0m\u001b[38;2;248;248;242;48;2;39;40;34m(\u001b[0m\u001b[38;2;230;219;116;48;2;39;40;34m\"\u001b[0m\u001b[38;2;230;219;116;48;2;39;40;34mPont des Arts length info:\u001b[0m\u001b[38;2;230;219;116;48;2;39;40;34m\"\u001b[0m\u001b[38;2;248;248;242;48;2;39;40;34m,\u001b[0m\u001b[38;2;248;248;242;48;2;39;40;34m \u001b[0m\u001b[38;2;248;248;242;48;2;39;40;34mpont_des_arts_length_info\u001b[0m\u001b[38;2;248;248;242;48;2;39;40;34m)\u001b[0m\u001b[48;2;39;40;34m                                                 \u001b[0m  \n",
              " ───────────────────────────────────────────────────────────────────────────────────────────────────────────────── \n"
            ],
            "text/html": [
              "<pre style=\"white-space:pre;overflow-x:auto;line-height:normal;font-family:Menlo,'DejaVu Sans Mono',consolas,'Courier New',monospace\"> ─ <span style=\"font-weight: bold\">Executing parsed code:</span> ──────────────────────────────────────────────────────────────────────────────────────── \n",
              "  <span style=\"color: #f8f8f2; text-decoration-color: #f8f8f2; background-color: #272822\">leopard_speed_info </span><span style=\"color: #ff4689; text-decoration-color: #ff4689; background-color: #272822\">=</span><span style=\"color: #f8f8f2; text-decoration-color: #f8f8f2; background-color: #272822\"> google_search(</span><span style=\"color: #e6db74; text-decoration-color: #e6db74; background-color: #272822\">\"full speed of a leopard\"</span><span style=\"color: #f8f8f2; text-decoration-color: #f8f8f2; background-color: #272822\">)</span><span style=\"background-color: #272822\">                                                  </span>  \n",
              "  <span style=\"color: #f8f8f2; text-decoration-color: #f8f8f2; background-color: #272822\">pont_des_arts_length_info </span><span style=\"color: #ff4689; text-decoration-color: #ff4689; background-color: #272822\">=</span><span style=\"color: #f8f8f2; text-decoration-color: #f8f8f2; background-color: #272822\"> google_search(</span><span style=\"color: #e6db74; text-decoration-color: #e6db74; background-color: #272822\">\"length of Pont des Arts\"</span><span style=\"color: #f8f8f2; text-decoration-color: #f8f8f2; background-color: #272822\">)</span><span style=\"background-color: #272822\">                                           </span>  \n",
              "  <span style=\"color: #f8f8f2; text-decoration-color: #f8f8f2; background-color: #272822\">print(</span><span style=\"color: #e6db74; text-decoration-color: #e6db74; background-color: #272822\">\"Leopard speed info:\"</span><span style=\"color: #f8f8f2; text-decoration-color: #f8f8f2; background-color: #272822\">, leopard_speed_info)</span><span style=\"background-color: #272822\">                                                               </span>  \n",
              "  <span style=\"color: #f8f8f2; text-decoration-color: #f8f8f2; background-color: #272822\">print(</span><span style=\"color: #e6db74; text-decoration-color: #e6db74; background-color: #272822\">\"Pont des Arts length info:\"</span><span style=\"color: #f8f8f2; text-decoration-color: #f8f8f2; background-color: #272822\">, pont_des_arts_length_info)</span><span style=\"background-color: #272822\">                                                 </span>  \n",
              " ───────────────────────────────────────────────────────────────────────────────────────────────────────────────── \n",
              "</pre>\n"
            ]
          },
          "metadata": {}
        },
        {
          "output_type": "display_data",
          "data": {
            "text/plain": [
              "\u001b[1mExecution logs:\u001b[0m\n",
              "Leopard speed info: Title: Leopard gecko running full speed around tank? : r/leopardgeckos\n",
              "Snippet: May 12, 2020 ... You should take a fecal sample to a vet and have it tested for parasites/impaction since \n",
              "your gecko isn't using the bathroom. I don't think him ...\n",
              "Link: https://www.reddit.com/r/leopardgeckos/comments/gijd1r/leopard_gecko_running_full_speed_around_tank/\n",
              "\n",
              "Title: Leopard Fact Sheet | Blog | Nature | PBS\n",
              "Snippet: Apr 15, 2021 ... They are also fast and can run up to 36 mph. In comparison, the cheetah, the fastest land\n",
              "mammal, runs 50 to 80 mph. Leopards can leap 20 ...\n",
              "Link: https://www.pbs.org/wnet/nature/blog/leopard-fact-sheet/\n",
              "\n",
              "Title: Leopard 2 tanks cruising on highway. Surprisingly fast. : r/tanks\n",
              "Snippet: Jan 7, 2017 ... Comments Section ... They can go 60 something kilometers per hour. ... They're faster than\n",
              "you think, clocking in at 72 kph. But even that isn't ...\n",
              "Link: https://www.reddit.com/r/tanks/comments/5mmu4c/leopard_2_tanks_cruising_on_highway_surprisingly/\n",
              "\n",
              "Title: Cheetah, Jaguar, Leopard, Lion, or Tiger - Which is fastest? | C ...\n",
              "Snippet: May 29, 2022 ... According to that page, the average top speed of the Jaguar is 80 kilometres per hour / \n",
              "50 miles per hour, while the average top speed of the ...\n",
              "Link: https://csydes.miraheze.org/wiki/Cheetah,_Jaguar,_Leopard,_Lion,_or_Tiger_-_Which_is_fastest%3F\n",
              "\n",
              "Title: How Fast Can a Leopard Run? A Fascinating Look at Their Speed ...\n",
              "Snippet: Apr 21, 2024 ... Leopards are incredibly agile and strong, reaching speeds up to 36 mph. Their speed is \n",
              "vital for hunting alone, unlike other predators that hunt ...\n",
              "Link: https://tiger-universe.com/blogs/tiger-blog/how-fast-can-a-leopard-run\n",
              "Pont des Arts length info: Title: Pont des Arts - Wikipedia\n",
              "Snippet: Pont des Arts ; Arch · Steel · 155 m (509 ft) · 11 m (36 ft).\n",
              "Link: https://en.wikipedia.org/wiki/Pont_des_Arts\n",
              "\n",
              "Title: Daniel Hourdé's Enchanted Installation Haunts Paris's Love Lock ...\n",
              "Snippet: May 26, 2016 ... Titled “The Enchanted Footbridge,” the installation runs along the length of the Pont des\n",
              "Arts, and features classically-inspired, ominous figures.\n",
              "Link: \n",
              "https://news.artnet.com/art-world/daniel-hourdc3s-enchanted-installation-haunts-pariss-love-lock-bridge-505505\n",
              "\n",
              "Title: Where is Pont des Arts, Paris, France on Map Lat Long Coordinates\n",
              "Snippet: It has a length of 155 m (509 ft) and a width of 11 m (36 ft). It was constructed between 1981 and 1984. \n",
              "The bridge is part of the UNESCO World Heritage Site.\n",
              "Link: https://www.latlong.net/place/pont-des-arts-paris-france-32945.html\n",
              "\n",
              "Title: Jean Béraud | A Windy Day on the Pont des Arts | The Metropolitan ...\n",
              "Snippet: Here, he depicts the lively traffic on the Pont des Arts, a footbridge spanning the Seine between the \n",
              "Institut de France and the Cour Carrée of the Louvre.\n",
              "Link: https://www.metmuseum.org/art/collection/search/435654\n",
              "\n",
              "Title: File:Institut de France - Académie française et pont des Arts.jpg ...\n",
              "Snippet: Nederlands: Institut de France, met in de voorgrond de \"Pont des Arts\" (brug van de kunsten) ... Lens \n",
              "focal length, 53 mm. JPEG file comment, AppleMark.\n",
              "Link: https://en.m.wikipedia.org/wiki/File:Institut_de_France_-_Acad%C3%A9mie_fran%C3%A7aise_et_pont_des_Arts.jpg\n",
              "\n",
              "Out: None\n"
            ],
            "text/html": [
              "<pre style=\"white-space:pre;overflow-x:auto;line-height:normal;font-family:Menlo,'DejaVu Sans Mono',consolas,'Courier New',monospace\"><span style=\"font-weight: bold\">Execution logs:</span>\n",
              "Leopard speed info: Title: Leopard gecko running full speed around tank? : r/leopardgeckos\n",
              "Snippet: May 12, 2020 ... You should take a fecal sample to a vet and have it tested for parasites/impaction since \n",
              "your gecko isn't using the bathroom. I don't think him ...\n",
              "Link: https://www.reddit.com/r/leopardgeckos/comments/gijd1r/leopard_gecko_running_full_speed_around_tank/\n",
              "\n",
              "Title: Leopard Fact Sheet | Blog | Nature | PBS\n",
              "Snippet: Apr 15, 2021 ... They are also fast and can run up to 36 mph. In comparison, the cheetah, the fastest land\n",
              "mammal, runs 50 to 80 mph. Leopards can leap 20 ...\n",
              "Link: https://www.pbs.org/wnet/nature/blog/leopard-fact-sheet/\n",
              "\n",
              "Title: Leopard 2 tanks cruising on highway. Surprisingly fast. : r/tanks\n",
              "Snippet: Jan 7, 2017 ... Comments Section ... They can go 60 something kilometers per hour. ... They're faster than\n",
              "you think, clocking in at 72 kph. But even that isn't ...\n",
              "Link: https://www.reddit.com/r/tanks/comments/5mmu4c/leopard_2_tanks_cruising_on_highway_surprisingly/\n",
              "\n",
              "Title: Cheetah, Jaguar, Leopard, Lion, or Tiger - Which is fastest? | C ...\n",
              "Snippet: May 29, 2022 ... According to that page, the average top speed of the Jaguar is 80 kilometres per hour / \n",
              "50 miles per hour, while the average top speed of the ...\n",
              "Link: https://csydes.miraheze.org/wiki/Cheetah,_Jaguar,_Leopard,_Lion,_or_Tiger_-_Which_is_fastest%3F\n",
              "\n",
              "Title: How Fast Can a Leopard Run? A Fascinating Look at Their Speed ...\n",
              "Snippet: Apr 21, 2024 ... Leopards are incredibly agile and strong, reaching speeds up to 36 mph. Their speed is \n",
              "vital for hunting alone, unlike other predators that hunt ...\n",
              "Link: https://tiger-universe.com/blogs/tiger-blog/how-fast-can-a-leopard-run\n",
              "Pont des Arts length info: Title: Pont des Arts - Wikipedia\n",
              "Snippet: Pont des Arts ; Arch · Steel · 155 m (509 ft) · 11 m (36 ft).\n",
              "Link: https://en.wikipedia.org/wiki/Pont_des_Arts\n",
              "\n",
              "Title: Daniel Hourdé's Enchanted Installation Haunts Paris's Love Lock ...\n",
              "Snippet: May 26, 2016 ... Titled “The Enchanted Footbridge,” the installation runs along the length of the Pont des\n",
              "Arts, and features classically-inspired, ominous figures.\n",
              "Link: \n",
              "https://news.artnet.com/art-world/daniel-hourdc3s-enchanted-installation-haunts-pariss-love-lock-bridge-505505\n",
              "\n",
              "Title: Where is Pont des Arts, Paris, France on Map Lat Long Coordinates\n",
              "Snippet: It has a length of 155 m (509 ft) and a width of 11 m (36 ft). It was constructed between 1981 and 1984. \n",
              "The bridge is part of the UNESCO World Heritage Site.\n",
              "Link: https://www.latlong.net/place/pont-des-arts-paris-france-32945.html\n",
              "\n",
              "Title: Jean Béraud | A Windy Day on the Pont des Arts | The Metropolitan ...\n",
              "Snippet: Here, he depicts the lively traffic on the Pont des Arts, a footbridge spanning the Seine between the \n",
              "Institut de France and the Cour Carrée of the Louvre.\n",
              "Link: https://www.metmuseum.org/art/collection/search/435654\n",
              "\n",
              "Title: File:Institut de France - Académie française et pont des Arts.jpg ...\n",
              "Snippet: Nederlands: Institut de France, met in de voorgrond de \"Pont des Arts\" (brug van de kunsten) ... Lens \n",
              "focal length, 53 mm. JPEG file comment, AppleMark.\n",
              "Link: https://en.m.wikipedia.org/wiki/File:Institut_de_France_-_Acad%C3%A9mie_fran%C3%A7aise_et_pont_des_Arts.jpg\n",
              "\n",
              "Out: None\n",
              "</pre>\n"
            ]
          },
          "metadata": {}
        },
        {
          "output_type": "display_data",
          "data": {
            "text/plain": [
              "\u001b[2m[Step 2: Duration 2.94 seconds| Input tokens: 4,365 | Output tokens: 285]\u001b[0m\n"
            ],
            "text/html": [
              "<pre style=\"white-space:pre;overflow-x:auto;line-height:normal;font-family:Menlo,'DejaVu Sans Mono',consolas,'Courier New',monospace\"><span style=\"color: #7f7f7f; text-decoration-color: #7f7f7f\">[Step 2: Duration 2.94 seconds| Input tokens: 4,365 | Output tokens: 285]</span>\n",
              "</pre>\n"
            ]
          },
          "metadata": {}
        },
        {
          "output_type": "display_data",
          "data": {
            "text/plain": [
              "\u001b[38;2;212;183;2m━━━━━━━━━━━━━━━━━━━━━━━━━━━━━━━━━━━━━━━━━━━━━━━━━━━━━ \u001b[0m\u001b[1mStep \u001b[0m\u001b[1;36m3\u001b[0m\u001b[38;2;212;183;2m ━━━━━━━━━━━━━━━━━━━━━━━━━━━━━━━━━━━━━━━━━━━━━━━━━━━━━━\u001b[0m\n"
            ],
            "text/html": [
              "<pre style=\"white-space:pre;overflow-x:auto;line-height:normal;font-family:Menlo,'DejaVu Sans Mono',consolas,'Courier New',monospace\"><span style=\"color: #d4b702; text-decoration-color: #d4b702\">━━━━━━━━━━━━━━━━━━━━━━━━━━━━━━━━━━━━━━━━━━━━━━━━━━━━━ </span><span style=\"font-weight: bold\">Step </span><span style=\"color: #008080; text-decoration-color: #008080; font-weight: bold\">3</span><span style=\"color: #d4b702; text-decoration-color: #d4b702\"> ━━━━━━━━━━━━━━━━━━━━━━━━━━━━━━━━━━━━━━━━━━━━━━━━━━━━━━</span>\n",
              "</pre>\n"
            ]
          },
          "metadata": {}
        },
        {
          "output_type": "display_data",
          "data": {
            "text/plain": [
              " ─ \u001b[1mExecuting parsed code:\u001b[0m ──────────────────────────────────────────────────────────────────────────────────────── \n",
              "  \u001b[38;2;149;144;119;48;2;39;40;34m# Convert speed from mph to m/s\u001b[0m\u001b[48;2;39;40;34m                                                                                \u001b[0m  \n",
              "  \u001b[38;2;248;248;242;48;2;39;40;34mleopard_speed_mps\u001b[0m\u001b[38;2;248;248;242;48;2;39;40;34m \u001b[0m\u001b[38;2;255;70;137;48;2;39;40;34m=\u001b[0m\u001b[38;2;248;248;242;48;2;39;40;34m \u001b[0m\u001b[38;2;174;129;255;48;2;39;40;34m36\u001b[0m\u001b[38;2;248;248;242;48;2;39;40;34m \u001b[0m\u001b[38;2;255;70;137;48;2;39;40;34m*\u001b[0m\u001b[38;2;248;248;242;48;2;39;40;34m \u001b[0m\u001b[38;2;174;129;255;48;2;39;40;34m1609.34\u001b[0m\u001b[38;2;248;248;242;48;2;39;40;34m \u001b[0m\u001b[38;2;255;70;137;48;2;39;40;34m/\u001b[0m\u001b[38;2;248;248;242;48;2;39;40;34m \u001b[0m\u001b[38;2;174;129;255;48;2;39;40;34m3600\u001b[0m\u001b[48;2;39;40;34m                                                                        \u001b[0m  \n",
              "  \u001b[48;2;39;40;34m                                                                                                               \u001b[0m  \n",
              "  \u001b[38;2;149;144;119;48;2;39;40;34m# Length of Pont des Arts\u001b[0m\u001b[48;2;39;40;34m                                                                                      \u001b[0m  \n",
              "  \u001b[38;2;248;248;242;48;2;39;40;34mpont_des_arts_length_m\u001b[0m\u001b[38;2;248;248;242;48;2;39;40;34m \u001b[0m\u001b[38;2;255;70;137;48;2;39;40;34m=\u001b[0m\u001b[38;2;248;248;242;48;2;39;40;34m \u001b[0m\u001b[38;2;174;129;255;48;2;39;40;34m155\u001b[0m\u001b[48;2;39;40;34m                                                                                   \u001b[0m  \n",
              "  \u001b[48;2;39;40;34m                                                                                                               \u001b[0m  \n",
              "  \u001b[38;2;149;144;119;48;2;39;40;34m# Calculate the time in seconds\u001b[0m\u001b[48;2;39;40;34m                                                                                \u001b[0m  \n",
              "  \u001b[38;2;248;248;242;48;2;39;40;34mtime_seconds\u001b[0m\u001b[38;2;248;248;242;48;2;39;40;34m \u001b[0m\u001b[38;2;255;70;137;48;2;39;40;34m=\u001b[0m\u001b[38;2;248;248;242;48;2;39;40;34m \u001b[0m\u001b[38;2;248;248;242;48;2;39;40;34mpont_des_arts_length_m\u001b[0m\u001b[38;2;248;248;242;48;2;39;40;34m \u001b[0m\u001b[38;2;255;70;137;48;2;39;40;34m/\u001b[0m\u001b[38;2;248;248;242;48;2;39;40;34m \u001b[0m\u001b[38;2;248;248;242;48;2;39;40;34mleopard_speed_mps\u001b[0m\u001b[48;2;39;40;34m                                                      \u001b[0m  \n",
              "  \u001b[38;2;248;248;242;48;2;39;40;34mfinal_answer\u001b[0m\u001b[38;2;248;248;242;48;2;39;40;34m(\u001b[0m\u001b[38;2;248;248;242;48;2;39;40;34mtime_seconds\u001b[0m\u001b[38;2;248;248;242;48;2;39;40;34m)\u001b[0m\u001b[48;2;39;40;34m                                                                                     \u001b[0m  \n",
              " ───────────────────────────────────────────────────────────────────────────────────────────────────────────────── \n"
            ],
            "text/html": [
              "<pre style=\"white-space:pre;overflow-x:auto;line-height:normal;font-family:Menlo,'DejaVu Sans Mono',consolas,'Courier New',monospace\"> ─ <span style=\"font-weight: bold\">Executing parsed code:</span> ──────────────────────────────────────────────────────────────────────────────────────── \n",
              "  <span style=\"color: #959077; text-decoration-color: #959077; background-color: #272822\"># Convert speed from mph to m/s</span><span style=\"background-color: #272822\">                                                                                </span>  \n",
              "  <span style=\"color: #f8f8f2; text-decoration-color: #f8f8f2; background-color: #272822\">leopard_speed_mps </span><span style=\"color: #ff4689; text-decoration-color: #ff4689; background-color: #272822\">=</span><span style=\"color: #f8f8f2; text-decoration-color: #f8f8f2; background-color: #272822\"> </span><span style=\"color: #ae81ff; text-decoration-color: #ae81ff; background-color: #272822\">36</span><span style=\"color: #f8f8f2; text-decoration-color: #f8f8f2; background-color: #272822\"> </span><span style=\"color: #ff4689; text-decoration-color: #ff4689; background-color: #272822\">*</span><span style=\"color: #f8f8f2; text-decoration-color: #f8f8f2; background-color: #272822\"> </span><span style=\"color: #ae81ff; text-decoration-color: #ae81ff; background-color: #272822\">1609.34</span><span style=\"color: #f8f8f2; text-decoration-color: #f8f8f2; background-color: #272822\"> </span><span style=\"color: #ff4689; text-decoration-color: #ff4689; background-color: #272822\">/</span><span style=\"color: #f8f8f2; text-decoration-color: #f8f8f2; background-color: #272822\"> </span><span style=\"color: #ae81ff; text-decoration-color: #ae81ff; background-color: #272822\">3600</span><span style=\"background-color: #272822\">                                                                        </span>  \n",
              "  <span style=\"background-color: #272822\">                                                                                                               </span>  \n",
              "  <span style=\"color: #959077; text-decoration-color: #959077; background-color: #272822\"># Length of Pont des Arts</span><span style=\"background-color: #272822\">                                                                                      </span>  \n",
              "  <span style=\"color: #f8f8f2; text-decoration-color: #f8f8f2; background-color: #272822\">pont_des_arts_length_m </span><span style=\"color: #ff4689; text-decoration-color: #ff4689; background-color: #272822\">=</span><span style=\"color: #f8f8f2; text-decoration-color: #f8f8f2; background-color: #272822\"> </span><span style=\"color: #ae81ff; text-decoration-color: #ae81ff; background-color: #272822\">155</span><span style=\"background-color: #272822\">                                                                                   </span>  \n",
              "  <span style=\"background-color: #272822\">                                                                                                               </span>  \n",
              "  <span style=\"color: #959077; text-decoration-color: #959077; background-color: #272822\"># Calculate the time in seconds</span><span style=\"background-color: #272822\">                                                                                </span>  \n",
              "  <span style=\"color: #f8f8f2; text-decoration-color: #f8f8f2; background-color: #272822\">time_seconds </span><span style=\"color: #ff4689; text-decoration-color: #ff4689; background-color: #272822\">=</span><span style=\"color: #f8f8f2; text-decoration-color: #f8f8f2; background-color: #272822\"> pont_des_arts_length_m </span><span style=\"color: #ff4689; text-decoration-color: #ff4689; background-color: #272822\">/</span><span style=\"color: #f8f8f2; text-decoration-color: #f8f8f2; background-color: #272822\"> leopard_speed_mps</span><span style=\"background-color: #272822\">                                                      </span>  \n",
              "  <span style=\"color: #f8f8f2; text-decoration-color: #f8f8f2; background-color: #272822\">final_answer(time_seconds)</span><span style=\"background-color: #272822\">                                                                                     </span>  \n",
              " ───────────────────────────────────────────────────────────────────────────────────────────────────────────────── \n",
              "</pre>\n"
            ]
          },
          "metadata": {}
        },
        {
          "output_type": "display_data",
          "data": {
            "text/plain": [
              "\u001b[1;38;2;212;183;2mOut - Final answer: 9.631277418072004\u001b[0m\n"
            ],
            "text/html": [
              "<pre style=\"white-space:pre;overflow-x:auto;line-height:normal;font-family:Menlo,'DejaVu Sans Mono',consolas,'Courier New',monospace\"><span style=\"color: #d4b702; text-decoration-color: #d4b702; font-weight: bold\">Out - Final answer: 9.631277418072004</span>\n",
              "</pre>\n"
            ]
          },
          "metadata": {}
        },
        {
          "output_type": "display_data",
          "data": {
            "text/plain": [
              "\u001b[2m[Step 3: Duration 2.91 seconds| Input tokens: 7,836 | Output tokens: 437]\u001b[0m\n"
            ],
            "text/html": [
              "<pre style=\"white-space:pre;overflow-x:auto;line-height:normal;font-family:Menlo,'DejaVu Sans Mono',consolas,'Courier New',monospace\"><span style=\"color: #7f7f7f; text-decoration-color: #7f7f7f\">[Step 3: Duration 2.91 seconds| Input tokens: 7,836 | Output tokens: 437]</span>\n",
              "</pre>\n"
            ]
          },
          "metadata": {}
        },
        {
          "output_type": "execute_result",
          "data": {
            "text/plain": [
              "9.631277418072004"
            ]
          },
          "metadata": {},
          "execution_count": 4
        }
      ]
    },
    {
      "cell_type": "markdown",
      "source": [
        "## A Contemporary Example\n",
        "\n",
        "The MacBook Air M4 was released well after the knowledge cutoff of GPT-4o."
      ],
      "metadata": {
        "id": "jS_EtIMjz7rx"
      }
    },
    {
      "cell_type": "code",
      "source": [
        "agent.run(\"When was the MacBook Air M4 released?\")"
      ],
      "metadata": {
        "id": "1JbBshCJjja4",
        "colab": {
          "base_uri": "https://localhost:8080/",
          "height": 970
        },
        "outputId": "239a0ca4-7ac9-457a-d08c-2c8572ed3df5"
      },
      "execution_count": 5,
      "outputs": [
        {
          "output_type": "display_data",
          "data": {
            "text/plain": [
              "\u001b[38;2;212;183;2m╭─\u001b[0m\u001b[38;2;212;183;2m───────────────────────────────────────────────────\u001b[0m\u001b[38;2;212;183;2m \u001b[0m\u001b[1;38;2;212;183;2mNew run\u001b[0m\u001b[38;2;212;183;2m \u001b[0m\u001b[38;2;212;183;2m───────────────────────────────────────────────────\u001b[0m\u001b[38;2;212;183;2m─╮\u001b[0m\n",
              "\u001b[38;2;212;183;2m│\u001b[0m                                                                                                                 \u001b[38;2;212;183;2m│\u001b[0m\n",
              "\u001b[38;2;212;183;2m│\u001b[0m \u001b[1mWhen was the MacBook Air M4 released?\u001b[0m                                                                           \u001b[38;2;212;183;2m│\u001b[0m\n",
              "\u001b[38;2;212;183;2m│\u001b[0m                                                                                                                 \u001b[38;2;212;183;2m│\u001b[0m\n",
              "\u001b[38;2;212;183;2m╰─\u001b[0m\u001b[38;2;212;183;2m OpenAIServerModel - gpt-4o \u001b[0m\u001b[38;2;212;183;2m───────────────────────────────────────────────────────────────────────────────────\u001b[0m\u001b[38;2;212;183;2m─╯\u001b[0m\n"
            ],
            "text/html": [
              "<pre style=\"white-space:pre;overflow-x:auto;line-height:normal;font-family:Menlo,'DejaVu Sans Mono',consolas,'Courier New',monospace\"><span style=\"color: #d4b702; text-decoration-color: #d4b702\">╭──────────────────────────────────────────────────── </span><span style=\"color: #d4b702; text-decoration-color: #d4b702; font-weight: bold\">New run</span><span style=\"color: #d4b702; text-decoration-color: #d4b702\"> ────────────────────────────────────────────────────╮</span>\n",
              "<span style=\"color: #d4b702; text-decoration-color: #d4b702\">│</span>                                                                                                                 <span style=\"color: #d4b702; text-decoration-color: #d4b702\">│</span>\n",
              "<span style=\"color: #d4b702; text-decoration-color: #d4b702\">│</span> <span style=\"font-weight: bold\">When was the MacBook Air M4 released?</span>                                                                           <span style=\"color: #d4b702; text-decoration-color: #d4b702\">│</span>\n",
              "<span style=\"color: #d4b702; text-decoration-color: #d4b702\">│</span>                                                                                                                 <span style=\"color: #d4b702; text-decoration-color: #d4b702\">│</span>\n",
              "<span style=\"color: #d4b702; text-decoration-color: #d4b702\">╰─ OpenAIServerModel - gpt-4o ────────────────────────────────────────────────────────────────────────────────────╯</span>\n",
              "</pre>\n"
            ]
          },
          "metadata": {}
        },
        {
          "output_type": "display_data",
          "data": {
            "text/plain": [
              "\u001b[38;2;212;183;2m━━━━━━━━━━━━━━━━━━━━━━━━━━━━━━━━━━━━━━━━━━━━━━━━━━━━━ \u001b[0m\u001b[1mStep \u001b[0m\u001b[1;36m1\u001b[0m\u001b[38;2;212;183;2m ━━━━━━━━━━━━━━━━━━━━━━━━━━━━━━━━━━━━━━━━━━━━━━━━━━━━━━\u001b[0m\n"
            ],
            "text/html": [
              "<pre style=\"white-space:pre;overflow-x:auto;line-height:normal;font-family:Menlo,'DejaVu Sans Mono',consolas,'Courier New',monospace\"><span style=\"color: #d4b702; text-decoration-color: #d4b702\">━━━━━━━━━━━━━━━━━━━━━━━━━━━━━━━━━━━━━━━━━━━━━━━━━━━━━ </span><span style=\"font-weight: bold\">Step </span><span style=\"color: #008080; text-decoration-color: #008080; font-weight: bold\">1</span><span style=\"color: #d4b702; text-decoration-color: #d4b702\"> ━━━━━━━━━━━━━━━━━━━━━━━━━━━━━━━━━━━━━━━━━━━━━━━━━━━━━━</span>\n",
              "</pre>\n"
            ]
          },
          "metadata": {}
        },
        {
          "output_type": "display_data",
          "data": {
            "text/plain": [
              " ─ \u001b[1mExecuting parsed code:\u001b[0m ──────────────────────────────────────────────────────────────────────────────────────── \n",
              "  \u001b[38;2;248;248;242;48;2;39;40;34mrelease_date_info\u001b[0m\u001b[38;2;248;248;242;48;2;39;40;34m \u001b[0m\u001b[38;2;255;70;137;48;2;39;40;34m=\u001b[0m\u001b[38;2;248;248;242;48;2;39;40;34m \u001b[0m\u001b[38;2;248;248;242;48;2;39;40;34mgoogle_search\u001b[0m\u001b[38;2;248;248;242;48;2;39;40;34m(\u001b[0m\u001b[38;2;248;248;242;48;2;39;40;34mexample_arg\u001b[0m\u001b[38;2;255;70;137;48;2;39;40;34m=\u001b[0m\u001b[38;2;230;219;116;48;2;39;40;34m\"\u001b[0m\u001b[38;2;230;219;116;48;2;39;40;34mMacBook Air M4 release date\u001b[0m\u001b[38;2;230;219;116;48;2;39;40;34m\"\u001b[0m\u001b[38;2;248;248;242;48;2;39;40;34m)\u001b[0m\u001b[48;2;39;40;34m                                   \u001b[0m  \n",
              "  \u001b[38;2;248;248;242;48;2;39;40;34mprint\u001b[0m\u001b[38;2;248;248;242;48;2;39;40;34m(\u001b[0m\u001b[38;2;248;248;242;48;2;39;40;34mrelease_date_info\u001b[0m\u001b[38;2;248;248;242;48;2;39;40;34m)\u001b[0m\u001b[48;2;39;40;34m                                                                                       \u001b[0m  \n",
              " ───────────────────────────────────────────────────────────────────────────────────────────────────────────────── \n"
            ],
            "text/html": [
              "<pre style=\"white-space:pre;overflow-x:auto;line-height:normal;font-family:Menlo,'DejaVu Sans Mono',consolas,'Courier New',monospace\"> ─ <span style=\"font-weight: bold\">Executing parsed code:</span> ──────────────────────────────────────────────────────────────────────────────────────── \n",
              "  <span style=\"color: #f8f8f2; text-decoration-color: #f8f8f2; background-color: #272822\">release_date_info </span><span style=\"color: #ff4689; text-decoration-color: #ff4689; background-color: #272822\">=</span><span style=\"color: #f8f8f2; text-decoration-color: #f8f8f2; background-color: #272822\"> google_search(example_arg</span><span style=\"color: #ff4689; text-decoration-color: #ff4689; background-color: #272822\">=</span><span style=\"color: #e6db74; text-decoration-color: #e6db74; background-color: #272822\">\"MacBook Air M4 release date\"</span><span style=\"color: #f8f8f2; text-decoration-color: #f8f8f2; background-color: #272822\">)</span><span style=\"background-color: #272822\">                                   </span>  \n",
              "  <span style=\"color: #f8f8f2; text-decoration-color: #f8f8f2; background-color: #272822\">print(release_date_info)</span><span style=\"background-color: #272822\">                                                                                       </span>  \n",
              " ───────────────────────────────────────────────────────────────────────────────────────────────────────────────── \n",
              "</pre>\n"
            ]
          },
          "metadata": {}
        },
        {
          "output_type": "display_data",
          "data": {
            "text/plain": [
              "\u001b[1;31mCode execution failed at line \u001b[0m\u001b[32m'release_date_info = google_search\u001b[0m\u001b[32m(\u001b[0m\u001b[32mexample_arg\u001b[0m\u001b[32m=\u001b[0m\u001b[32m\"MacBook\u001b[0m\u001b[32m Air M4 release date\"\u001b[0m\u001b[32m)\u001b[0m\u001b[32m'\u001b[0m\u001b[1;31m due \u001b[0m\n",
              "\u001b[1;31mto: TypeError: \u001b[0m\u001b[1;35mGoogleSearch.fn\u001b[0m\u001b[1;31m(\u001b[0m\u001b[1;31m)\u001b[0m\u001b[1;31m got an unexpected keyword argument \u001b[0m\u001b[32m'example_arg'\u001b[0m\n"
            ],
            "text/html": [
              "<pre style=\"white-space:pre;overflow-x:auto;line-height:normal;font-family:Menlo,'DejaVu Sans Mono',consolas,'Courier New',monospace\"><span style=\"color: #800000; text-decoration-color: #800000; font-weight: bold\">Code execution failed at line </span><span style=\"color: #008000; text-decoration-color: #008000\">'release_date_info = google_search(example_arg=\"MacBook Air M4 release date\")'</span><span style=\"color: #800000; text-decoration-color: #800000; font-weight: bold\"> due </span>\n",
              "<span style=\"color: #800000; text-decoration-color: #800000; font-weight: bold\">to: TypeError: </span><span style=\"color: #800080; text-decoration-color: #800080; font-weight: bold\">GoogleSearch.fn</span><span style=\"color: #800000; text-decoration-color: #800000; font-weight: bold\">() got an unexpected keyword argument </span><span style=\"color: #008000; text-decoration-color: #008000\">'example_arg'</span>\n",
              "</pre>\n"
            ]
          },
          "metadata": {}
        },
        {
          "output_type": "display_data",
          "data": {
            "text/plain": [
              "\u001b[2m[Step 1: Duration 1.45 seconds| Input tokens: 2,003 | Output tokens: 71]\u001b[0m\n"
            ],
            "text/html": [
              "<pre style=\"white-space:pre;overflow-x:auto;line-height:normal;font-family:Menlo,'DejaVu Sans Mono',consolas,'Courier New',monospace\"><span style=\"color: #7f7f7f; text-decoration-color: #7f7f7f\">[Step 1: Duration 1.45 seconds| Input tokens: 2,003 | Output tokens: 71]</span>\n",
              "</pre>\n"
            ]
          },
          "metadata": {}
        },
        {
          "output_type": "display_data",
          "data": {
            "text/plain": [
              "\u001b[38;2;212;183;2m━━━━━━━━━━━━━━━━━━━━━━━━━━━━━━━━━━━━━━━━━━━━━━━━━━━━━ \u001b[0m\u001b[1mStep \u001b[0m\u001b[1;36m2\u001b[0m\u001b[38;2;212;183;2m ━━━━━━━━━━━━━━━━━━━━━━━━━━━━━━━━━━━━━━━━━━━━━━━━━━━━━━\u001b[0m\n"
            ],
            "text/html": [
              "<pre style=\"white-space:pre;overflow-x:auto;line-height:normal;font-family:Menlo,'DejaVu Sans Mono',consolas,'Courier New',monospace\"><span style=\"color: #d4b702; text-decoration-color: #d4b702\">━━━━━━━━━━━━━━━━━━━━━━━━━━━━━━━━━━━━━━━━━━━━━━━━━━━━━ </span><span style=\"font-weight: bold\">Step </span><span style=\"color: #008080; text-decoration-color: #008080; font-weight: bold\">2</span><span style=\"color: #d4b702; text-decoration-color: #d4b702\"> ━━━━━━━━━━━━━━━━━━━━━━━━━━━━━━━━━━━━━━━━━━━━━━━━━━━━━━</span>\n",
              "</pre>\n"
            ]
          },
          "metadata": {}
        },
        {
          "output_type": "display_data",
          "data": {
            "text/plain": [
              " ─ \u001b[1mExecuting parsed code:\u001b[0m ──────────────────────────────────────────────────────────────────────────────────────── \n",
              "  \u001b[38;2;248;248;242;48;2;39;40;34mrelease_date_info\u001b[0m\u001b[38;2;248;248;242;48;2;39;40;34m \u001b[0m\u001b[38;2;255;70;137;48;2;39;40;34m=\u001b[0m\u001b[38;2;248;248;242;48;2;39;40;34m \u001b[0m\u001b[38;2;248;248;242;48;2;39;40;34mgoogle_search\u001b[0m\u001b[38;2;248;248;242;48;2;39;40;34m(\u001b[0m\u001b[38;2;230;219;116;48;2;39;40;34m\"\u001b[0m\u001b[38;2;230;219;116;48;2;39;40;34mMacBook Air M4 release date\u001b[0m\u001b[38;2;230;219;116;48;2;39;40;34m\"\u001b[0m\u001b[38;2;248;248;242;48;2;39;40;34m)\u001b[0m\u001b[48;2;39;40;34m                                               \u001b[0m  \n",
              "  \u001b[38;2;248;248;242;48;2;39;40;34mprint\u001b[0m\u001b[38;2;248;248;242;48;2;39;40;34m(\u001b[0m\u001b[38;2;248;248;242;48;2;39;40;34mrelease_date_info\u001b[0m\u001b[38;2;248;248;242;48;2;39;40;34m)\u001b[0m\u001b[48;2;39;40;34m                                                                                       \u001b[0m  \n",
              " ───────────────────────────────────────────────────────────────────────────────────────────────────────────────── \n"
            ],
            "text/html": [
              "<pre style=\"white-space:pre;overflow-x:auto;line-height:normal;font-family:Menlo,'DejaVu Sans Mono',consolas,'Courier New',monospace\"> ─ <span style=\"font-weight: bold\">Executing parsed code:</span> ──────────────────────────────────────────────────────────────────────────────────────── \n",
              "  <span style=\"color: #f8f8f2; text-decoration-color: #f8f8f2; background-color: #272822\">release_date_info </span><span style=\"color: #ff4689; text-decoration-color: #ff4689; background-color: #272822\">=</span><span style=\"color: #f8f8f2; text-decoration-color: #f8f8f2; background-color: #272822\"> google_search(</span><span style=\"color: #e6db74; text-decoration-color: #e6db74; background-color: #272822\">\"MacBook Air M4 release date\"</span><span style=\"color: #f8f8f2; text-decoration-color: #f8f8f2; background-color: #272822\">)</span><span style=\"background-color: #272822\">                                               </span>  \n",
              "  <span style=\"color: #f8f8f2; text-decoration-color: #f8f8f2; background-color: #272822\">print(release_date_info)</span><span style=\"background-color: #272822\">                                                                                       </span>  \n",
              " ───────────────────────────────────────────────────────────────────────────────────────────────────────────────── \n",
              "</pre>\n"
            ]
          },
          "metadata": {}
        },
        {
          "output_type": "display_data",
          "data": {
            "text/plain": [
              "\u001b[1mExecution logs:\u001b[0m\n",
              "Title: Apple's M4 MacBook Air may be out as soon as the week of ...\n",
              "Snippet: Feb 14, 2025 ... Apple's M4 MacBook Air may be out as soon as the week of February 17. Here's what to \n",
              "expect from Apple's first Mac release of 2025. By @ ...\n",
              "Link: https://www.reddit.com/r/macbookair/comments/1ipoobx/apples_m4_macbook_air_may_be_out_as_soon_as_the/\n",
              "\n",
              "Title: m4 Macbook Air? | MacRumors Forums\n",
              "Snippet: Jan 27, 2025 ... I don't think they will become before march… march is a good release date ! Like. \n",
              "Reactions: Chuckeee.\n",
              "Link: https://forums.macrumors.com/threads/m4-macbook-air.2448207/\n",
              "\n",
              "Title: Is m4 air releasing anytime soon ? : r/macbookair\n",
              "Snippet: Nov 14, 2024 ... Apple is expected to update the MacBook Air lineup with the next-generation M4 chip in \n",
              "the spring of 2025. The M4 chip will feature a focus on ...\n",
              "Link: https://www.reddit.com/r/macbookair/comments/1gr8thd/is_m4_air_releasing_anytime_soon/\n",
              "\n",
              "Title: Apple introduces the new MacBook Air with the M4 chip and a sky ...\n",
              "Snippet: 7 days ago ... Media · Text of this article. March 5, 2025. PRESS RELEASE. Apple introduces the new \n",
              "MacBook Air with the soaring performance of the M4 chip, a ...\n",
              "Link: \n",
              "https://www.apple.com/newsroom/2025/03/apple-introduces-the-new-macbook-air-with-the-m4-chip-and-a-sky-blue-color/\n",
              "\n",
              "Title: M4 MacBook Air rumors: Price, performance, design\n",
              "Snippet: Feb 14, 2025 ... Apple's M4 MacBook Air may be out as soon as the week of February 17. Here's what to \n",
              "expect from Apple's first Mac release of 2025.\n",
              "Link: \n",
              "https://appleinsider.com/articles/25/02/14/m4-macbook-air-what-the-rumors-say-to-expect-from-the-first-new-mac-of-2\n",
              "025\n",
              "\n",
              "Out: None\n"
            ],
            "text/html": [
              "<pre style=\"white-space:pre;overflow-x:auto;line-height:normal;font-family:Menlo,'DejaVu Sans Mono',consolas,'Courier New',monospace\"><span style=\"font-weight: bold\">Execution logs:</span>\n",
              "Title: Apple's M4 MacBook Air may be out as soon as the week of ...\n",
              "Snippet: Feb 14, 2025 ... Apple's M4 MacBook Air may be out as soon as the week of February 17. Here's what to \n",
              "expect from Apple's first Mac release of 2025. By @ ...\n",
              "Link: https://www.reddit.com/r/macbookair/comments/1ipoobx/apples_m4_macbook_air_may_be_out_as_soon_as_the/\n",
              "\n",
              "Title: m4 Macbook Air? | MacRumors Forums\n",
              "Snippet: Jan 27, 2025 ... I don't think they will become before march… march is a good release date ! Like. \n",
              "Reactions: Chuckeee.\n",
              "Link: https://forums.macrumors.com/threads/m4-macbook-air.2448207/\n",
              "\n",
              "Title: Is m4 air releasing anytime soon ? : r/macbookair\n",
              "Snippet: Nov 14, 2024 ... Apple is expected to update the MacBook Air lineup with the next-generation M4 chip in \n",
              "the spring of 2025. The M4 chip will feature a focus on ...\n",
              "Link: https://www.reddit.com/r/macbookair/comments/1gr8thd/is_m4_air_releasing_anytime_soon/\n",
              "\n",
              "Title: Apple introduces the new MacBook Air with the M4 chip and a sky ...\n",
              "Snippet: 7 days ago ... Media · Text of this article. March 5, 2025. PRESS RELEASE. Apple introduces the new \n",
              "MacBook Air with the soaring performance of the M4 chip, a ...\n",
              "Link: \n",
              "https://www.apple.com/newsroom/2025/03/apple-introduces-the-new-macbook-air-with-the-m4-chip-and-a-sky-blue-color/\n",
              "\n",
              "Title: M4 MacBook Air rumors: Price, performance, design\n",
              "Snippet: Feb 14, 2025 ... Apple's M4 MacBook Air may be out as soon as the week of February 17. Here's what to \n",
              "expect from Apple's first Mac release of 2025.\n",
              "Link: \n",
              "https://appleinsider.com/articles/25/02/14/m4-macbook-air-what-the-rumors-say-to-expect-from-the-first-new-mac-of-2\n",
              "025\n",
              "\n",
              "Out: None\n",
              "</pre>\n"
            ]
          },
          "metadata": {}
        },
        {
          "output_type": "display_data",
          "data": {
            "text/plain": [
              "\u001b[2m[Step 2: Duration 2.12 seconds| Input tokens: 4,223 | Output tokens: 134]\u001b[0m\n"
            ],
            "text/html": [
              "<pre style=\"white-space:pre;overflow-x:auto;line-height:normal;font-family:Menlo,'DejaVu Sans Mono',consolas,'Courier New',monospace\"><span style=\"color: #7f7f7f; text-decoration-color: #7f7f7f\">[Step 2: Duration 2.12 seconds| Input tokens: 4,223 | Output tokens: 134]</span>\n",
              "</pre>\n"
            ]
          },
          "metadata": {}
        },
        {
          "output_type": "display_data",
          "data": {
            "text/plain": [
              "\u001b[38;2;212;183;2m━━━━━━━━━━━━━━━━━━━━━━━━━━━━━━━━━━━━━━━━━━━━━━━━━━━━━ \u001b[0m\u001b[1mStep \u001b[0m\u001b[1;36m3\u001b[0m\u001b[38;2;212;183;2m ━━━━━━━━━━━━━━━━━━━━━━━━━━━━━━━━━━━━━━━━━━━━━━━━━━━━━━\u001b[0m\n"
            ],
            "text/html": [
              "<pre style=\"white-space:pre;overflow-x:auto;line-height:normal;font-family:Menlo,'DejaVu Sans Mono',consolas,'Courier New',monospace\"><span style=\"color: #d4b702; text-decoration-color: #d4b702\">━━━━━━━━━━━━━━━━━━━━━━━━━━━━━━━━━━━━━━━━━━━━━━━━━━━━━ </span><span style=\"font-weight: bold\">Step </span><span style=\"color: #008080; text-decoration-color: #008080; font-weight: bold\">3</span><span style=\"color: #d4b702; text-decoration-color: #d4b702\"> ━━━━━━━━━━━━━━━━━━━━━━━━━━━━━━━━━━━━━━━━━━━━━━━━━━━━━━</span>\n",
              "</pre>\n"
            ]
          },
          "metadata": {}
        },
        {
          "output_type": "display_data",
          "data": {
            "text/plain": [
              " ─ \u001b[1mExecuting parsed code:\u001b[0m ──────────────────────────────────────────────────────────────────────────────────────── \n",
              "  \u001b[38;2;248;248;242;48;2;39;40;34mfinal_answer\u001b[0m\u001b[38;2;248;248;242;48;2;39;40;34m(\u001b[0m\u001b[38;2;230;219;116;48;2;39;40;34m\"\u001b[0m\u001b[38;2;230;219;116;48;2;39;40;34mMarch 5, 2025\u001b[0m\u001b[38;2;230;219;116;48;2;39;40;34m\"\u001b[0m\u001b[38;2;248;248;242;48;2;39;40;34m)\u001b[0m\u001b[48;2;39;40;34m                                                                                  \u001b[0m  \n",
              " ───────────────────────────────────────────────────────────────────────────────────────────────────────────────── \n"
            ],
            "text/html": [
              "<pre style=\"white-space:pre;overflow-x:auto;line-height:normal;font-family:Menlo,'DejaVu Sans Mono',consolas,'Courier New',monospace\"> ─ <span style=\"font-weight: bold\">Executing parsed code:</span> ──────────────────────────────────────────────────────────────────────────────────────── \n",
              "  <span style=\"color: #f8f8f2; text-decoration-color: #f8f8f2; background-color: #272822\">final_answer(</span><span style=\"color: #e6db74; text-decoration-color: #e6db74; background-color: #272822\">\"March 5, 2025\"</span><span style=\"color: #f8f8f2; text-decoration-color: #f8f8f2; background-color: #272822\">)</span><span style=\"background-color: #272822\">                                                                                  </span>  \n",
              " ───────────────────────────────────────────────────────────────────────────────────────────────────────────────── \n",
              "</pre>\n"
            ]
          },
          "metadata": {}
        },
        {
          "output_type": "display_data",
          "data": {
            "text/plain": [
              "\u001b[1;38;2;212;183;2mOut - Final answer: March 5, 2025\u001b[0m\n"
            ],
            "text/html": [
              "<pre style=\"white-space:pre;overflow-x:auto;line-height:normal;font-family:Menlo,'DejaVu Sans Mono',consolas,'Courier New',monospace\"><span style=\"color: #d4b702; text-decoration-color: #d4b702; font-weight: bold\">Out - Final answer: March 5, 2025</span>\n",
              "</pre>\n"
            ]
          },
          "metadata": {}
        },
        {
          "output_type": "display_data",
          "data": {
            "text/plain": [
              "\u001b[2m[Step 3: Duration 1.76 seconds| Input tokens: 7,053 | Output tokens: 195]\u001b[0m\n"
            ],
            "text/html": [
              "<pre style=\"white-space:pre;overflow-x:auto;line-height:normal;font-family:Menlo,'DejaVu Sans Mono',consolas,'Courier New',monospace\"><span style=\"color: #7f7f7f; text-decoration-color: #7f7f7f\">[Step 3: Duration 1.76 seconds| Input tokens: 7,053 | Output tokens: 195]</span>\n",
              "</pre>\n"
            ]
          },
          "metadata": {}
        },
        {
          "output_type": "execute_result",
          "data": {
            "text/plain": [
              "'March 5, 2025'"
            ],
            "application/vnd.google.colaboratory.intrinsic+json": {
              "type": "string"
            }
          },
          "metadata": {},
          "execution_count": 5
        }
      ]
    },
    {
      "cell_type": "code",
      "source": [],
      "metadata": {
        "id": "oJAmcuUPz4Fq"
      },
      "execution_count": 5,
      "outputs": []
    }
  ]
}